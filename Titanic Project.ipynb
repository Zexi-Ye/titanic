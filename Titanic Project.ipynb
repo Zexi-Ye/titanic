{
 "cells": [
  {
   "cell_type": "markdown",
   "metadata": {},
   "source": [
    "# Titanic Survivor Prediction Project\n",
    "\n",
    "<br>\n",
    "\n",
    "This notebook presents a machine learning project on the classic Titanic dataset. Briefly speaking, the goal is to develop a model that predicts whether a passenger would survive given a set of information. Here, this notebook documents the entire trajectory of the project, which primarily consists of the following sections:\n",
    "\n",
    "1. [Data Exploration](#1)\n",
    "\n",
    "\n",
    "2. [Feature Engineering](#2)\n",
    "\n",
    "\n",
    "3. [Modeling](#3)\n",
    "\n",
    "\n",
    "4. [Validation](#4)\n",
    "\n",
    "\n",
    "5. [Prediction on Test Set](#5)\n",
    "\n",
    "You may visit the <a href='https://www.kaggle.com/c/titanic'>Kaggle competition page</a> for more detailed information about the dataset.\n",
    "\n",
    "<br>\n",
    "\n",
    "<img src='img/titanic.jpg' title='Titanic' width=600 height=400>"
   ]
  },
  {
   "cell_type": "code",
   "execution_count": 1,
   "metadata": {},
   "outputs": [],
   "source": [
    "import numpy as np\n",
    "import pandas as pd\n",
    "import matplotlib.pyplot as plt\n",
    "%matplotlib inline\n",
    "import seaborn as sns\n",
    "sns.set(style='whitegrid')\n",
    "import re\n",
    "import joblib\n",
    "\n",
    "np.random.seed(1995)"
   ]
  },
  {
   "cell_type": "markdown",
   "metadata": {},
   "source": [
    "<a id=1></a>\n",
    "\n",
    "# Data Exploration"
   ]
  },
  {
   "cell_type": "markdown",
   "metadata": {},
   "source": [
    "## A. Load in Training Data"
   ]
  },
  {
   "cell_type": "code",
   "execution_count": 2,
   "metadata": {},
   "outputs": [],
   "source": [
    "# Load data\n",
    "trainData = pd.read_csv('data/train.csv')"
   ]
  },
  {
   "cell_type": "code",
   "execution_count": 3,
   "metadata": {},
   "outputs": [
    {
     "data": {
      "text/html": [
       "<div>\n",
       "<style scoped>\n",
       "    .dataframe tbody tr th:only-of-type {\n",
       "        vertical-align: middle;\n",
       "    }\n",
       "\n",
       "    .dataframe tbody tr th {\n",
       "        vertical-align: top;\n",
       "    }\n",
       "\n",
       "    .dataframe thead th {\n",
       "        text-align: right;\n",
       "    }\n",
       "</style>\n",
       "<table border=\"1\" class=\"dataframe\">\n",
       "  <thead>\n",
       "    <tr style=\"text-align: right;\">\n",
       "      <th></th>\n",
       "      <th>PassengerId</th>\n",
       "      <th>Survived</th>\n",
       "      <th>Pclass</th>\n",
       "      <th>Name</th>\n",
       "      <th>Sex</th>\n",
       "      <th>Age</th>\n",
       "      <th>SibSp</th>\n",
       "      <th>Parch</th>\n",
       "      <th>Ticket</th>\n",
       "      <th>Fare</th>\n",
       "      <th>Cabin</th>\n",
       "      <th>Embarked</th>\n",
       "    </tr>\n",
       "  </thead>\n",
       "  <tbody>\n",
       "    <tr>\n",
       "      <td>0</td>\n",
       "      <td>1</td>\n",
       "      <td>0</td>\n",
       "      <td>3</td>\n",
       "      <td>Braund, Mr. Owen Harris</td>\n",
       "      <td>male</td>\n",
       "      <td>22.0</td>\n",
       "      <td>1</td>\n",
       "      <td>0</td>\n",
       "      <td>A/5 21171</td>\n",
       "      <td>7.2500</td>\n",
       "      <td>NaN</td>\n",
       "      <td>S</td>\n",
       "    </tr>\n",
       "    <tr>\n",
       "      <td>1</td>\n",
       "      <td>2</td>\n",
       "      <td>1</td>\n",
       "      <td>1</td>\n",
       "      <td>Cumings, Mrs. John Bradley (Florence Briggs Th...</td>\n",
       "      <td>female</td>\n",
       "      <td>38.0</td>\n",
       "      <td>1</td>\n",
       "      <td>0</td>\n",
       "      <td>PC 17599</td>\n",
       "      <td>71.2833</td>\n",
       "      <td>C85</td>\n",
       "      <td>C</td>\n",
       "    </tr>\n",
       "    <tr>\n",
       "      <td>2</td>\n",
       "      <td>3</td>\n",
       "      <td>1</td>\n",
       "      <td>3</td>\n",
       "      <td>Heikkinen, Miss. Laina</td>\n",
       "      <td>female</td>\n",
       "      <td>26.0</td>\n",
       "      <td>0</td>\n",
       "      <td>0</td>\n",
       "      <td>STON/O2. 3101282</td>\n",
       "      <td>7.9250</td>\n",
       "      <td>NaN</td>\n",
       "      <td>S</td>\n",
       "    </tr>\n",
       "    <tr>\n",
       "      <td>3</td>\n",
       "      <td>4</td>\n",
       "      <td>1</td>\n",
       "      <td>1</td>\n",
       "      <td>Futrelle, Mrs. Jacques Heath (Lily May Peel)</td>\n",
       "      <td>female</td>\n",
       "      <td>35.0</td>\n",
       "      <td>1</td>\n",
       "      <td>0</td>\n",
       "      <td>113803</td>\n",
       "      <td>53.1000</td>\n",
       "      <td>C123</td>\n",
       "      <td>S</td>\n",
       "    </tr>\n",
       "    <tr>\n",
       "      <td>4</td>\n",
       "      <td>5</td>\n",
       "      <td>0</td>\n",
       "      <td>3</td>\n",
       "      <td>Allen, Mr. William Henry</td>\n",
       "      <td>male</td>\n",
       "      <td>35.0</td>\n",
       "      <td>0</td>\n",
       "      <td>0</td>\n",
       "      <td>373450</td>\n",
       "      <td>8.0500</td>\n",
       "      <td>NaN</td>\n",
       "      <td>S</td>\n",
       "    </tr>\n",
       "  </tbody>\n",
       "</table>\n",
       "</div>"
      ],
      "text/plain": [
       "   PassengerId  Survived  Pclass  \\\n",
       "0            1         0       3   \n",
       "1            2         1       1   \n",
       "2            3         1       3   \n",
       "3            4         1       1   \n",
       "4            5         0       3   \n",
       "\n",
       "                                                Name     Sex   Age  SibSp  \\\n",
       "0                            Braund, Mr. Owen Harris    male  22.0      1   \n",
       "1  Cumings, Mrs. John Bradley (Florence Briggs Th...  female  38.0      1   \n",
       "2                             Heikkinen, Miss. Laina  female  26.0      0   \n",
       "3       Futrelle, Mrs. Jacques Heath (Lily May Peel)  female  35.0      1   \n",
       "4                           Allen, Mr. William Henry    male  35.0      0   \n",
       "\n",
       "   Parch            Ticket     Fare Cabin Embarked  \n",
       "0      0         A/5 21171   7.2500   NaN        S  \n",
       "1      0          PC 17599  71.2833   C85        C  \n",
       "2      0  STON/O2. 3101282   7.9250   NaN        S  \n",
       "3      0            113803  53.1000  C123        S  \n",
       "4      0            373450   8.0500   NaN        S  "
      ]
     },
     "execution_count": 3,
     "metadata": {},
     "output_type": "execute_result"
    }
   ],
   "source": [
    "trainData.head()"
   ]
  },
  {
   "cell_type": "markdown",
   "metadata": {},
   "source": [
    "## B. Univariate Analysis"
   ]
  },
  {
   "cell_type": "markdown",
   "metadata": {},
   "source": [
    "**i) Target variable: Survived**"
   ]
  },
  {
   "cell_type": "code",
   "execution_count": 4,
   "metadata": {},
   "outputs": [
    {
     "data": {
      "text/plain": [
       "<matplotlib.axes._subplots.AxesSubplot at 0x1a1b5c9550>"
      ]
     },
     "execution_count": 4,
     "metadata": {},
     "output_type": "execute_result"
    },
    {
     "data": {
      "image/png": "[encoded data removed]",
      "text/plain": [
       "<Figure size 432x216 with 1 Axes>"
      ]
     },
     "metadata": {
      "needs_background": "light"
     },
     "output_type": "display_data"
    }
   ],
   "source": [
    "fig, ax = plt.subplots(figsize=(6, 3))\n",
    "sns.countplot(y='Survived', data=trainData, ax=ax)"
   ]
  },
  {
   "cell_type": "markdown",
   "metadata": {},
   "source": [
    "**ii) Pclass**"
   ]
  },
  {
   "cell_type": "code",
   "execution_count": 5,
   "metadata": {},
   "outputs": [
    {
     "data": {
      "text/plain": [
       "<matplotlib.axes._subplots.AxesSubplot at 0x1a1bf74a50>"
      ]
     },
     "execution_count": 5,
     "metadata": {},
     "output_type": "execute_result"
    },
    {
     "data": {
      "image/png": "[encoded data removed]",
      "text/plain": [
       "<Figure size 432x216 with 1 Axes>"
      ]
     },
     "metadata": {
      "needs_background": "light"
     },
     "output_type": "display_data"
    }
   ],
   "source": [
    "fig, ax = plt.subplots(figsize=(6, 3))\n",
    "sns.countplot(y='Pclass', data=trainData, ax=ax)"
   ]
  },
  {
   "cell_type": "markdown",
   "metadata": {},
   "source": [
    "**iii) Sex**"
   ]
  },
  {
   "cell_type": "code",
   "execution_count": 6,
   "metadata": {},
   "outputs": [
    {
     "data": {
      "text/plain": [
       "<matplotlib.axes._subplots.AxesSubplot at 0x1a1c04f4d0>"
      ]
     },
     "execution_count": 6,
     "metadata": {},
     "output_type": "execute_result"
    },
    {
     "data": {
      "image/png": "[encoded data removed]",
      "text/plain": [
       "<Figure size 432x216 with 1 Axes>"
      ]
     },
     "metadata": {
      "needs_background": "light"
     },
     "output_type": "display_data"
    }
   ],
   "source": [
    "fig, ax = plt.subplots(figsize=(6, 3))\n",
    "sns.countplot(y='Sex', data=trainData, ax=ax)"
   ]
  },
  {
   "cell_type": "markdown",
   "metadata": {},
   "source": [
    "**iv) Age**"
   ]
  },
  {
   "cell_type": "code",
   "execution_count": 7,
   "metadata": {},
   "outputs": [
    {
     "data": {
      "text/plain": [
       "<matplotlib.axes._subplots.AxesSubplot at 0x1a1c10a0d0>"
      ]
     },
     "execution_count": 7,
     "metadata": {},
     "output_type": "execute_result"
    },
    {
     "data": {
      "image/png": "[encoded data removed]",
      "text/plain": [
       "<Figure size 432x432 with 1 Axes>"
      ]
     },
     "metadata": {
      "needs_background": "light"
     },
     "output_type": "display_data"
    }
   ],
   "source": [
    "fig, ax = plt.subplots(figsize=(6, 6))\n",
    "sns.distplot(trainData.Age.dropna(), kde=False, bins=12, ax=ax)"
   ]
  },
  {
   "cell_type": "markdown",
   "metadata": {},
   "source": [
    "**v) Fare**"
   ]
  },
  {
   "cell_type": "code",
   "execution_count": 10,
   "metadata": {},
   "outputs": [
    {
     "data": {
      "text/plain": [
       "<matplotlib.axes._subplots.AxesSubplot at 0x1a1c2d0e90>"
      ]
     },
     "execution_count": 10,
     "metadata": {},
     "output_type": "execute_result"
    },
    {
     "data": {
      "image/png": "[encoded data removed]",
      "text/plain": [
       "<Figure size 432x432 with 1 Axes>"
      ]
     },
     "metadata": {
      "needs_background": "light"
     },
     "output_type": "display_data"
    }
   ],
   "source": [
    "fig, ax = plt.subplots(figsize=(6, 6))\n",
    "sns.distplot(trainData.Fare, kde=False, bins=15, ax=ax)"
   ]
  },
  {
   "cell_type": "code",
   "execution_count": 12,
   "metadata": {},
   "outputs": [
    {
     "data": {
      "text/plain": [
       "679    512.3292\n",
       "258    512.3292\n",
       "737    512.3292\n",
       "341    263.0000\n",
       "438    263.0000\n",
       "         ...   \n",
       "277      0.0000\n",
       "633      0.0000\n",
       "302      0.0000\n",
       "597      0.0000\n",
       "271      0.0000\n",
       "Name: Fare, Length: 891, dtype: float64"
      ]
     },
     "execution_count": 12,
     "metadata": {},
     "output_type": "execute_result"
    }
   ],
   "source": [
    "trainData.Fare.sort_values(ascending=False)"
   ]
  },
  {
   "cell_type": "markdown",
   "metadata": {},
   "source": [
    "**vi) Embarked**"
   ]
  },
  {
   "cell_type": "code",
   "execution_count": 13,
   "metadata": {},
   "outputs": [
    {
     "data": {
      "text/plain": [
       "<matplotlib.axes._subplots.AxesSubplot at 0x1a1c56cc10>"
      ]
     },
     "execution_count": 13,
     "metadata": {},
     "output_type": "execute_result"
    },
    {
     "data": {
      "image/png": "[encoded data removed]",
      "text/plain": [
       "<Figure size 432x216 with 1 Axes>"
      ]
     },
     "metadata": {
      "needs_background": "light"
     },
     "output_type": "display_data"
    }
   ],
   "source": [
    "fig, ax = plt.subplots(figsize=(6, 3))\n",
    "sns.countplot(y='Embarked', data=trainData, ax=ax)"
   ]
  },
  {
   "cell_type": "markdown",
   "metadata": {},
   "source": [
    "## C. Exploration and Cleaning"
   ]
  },
  {
   "cell_type": "markdown",
   "metadata": {},
   "source": [
    "First we will examine which columns contain missing values."
   ]
  },
  {
   "cell_type": "code",
   "execution_count": 4,
   "metadata": {},
   "outputs": [
    {
     "data": {
      "text/plain": [
       "PassengerId      0\n",
       "Survived         0\n",
       "Pclass           0\n",
       "Name             0\n",
       "Sex              0\n",
       "Age            177\n",
       "SibSp            0\n",
       "Parch            0\n",
       "Ticket           0\n",
       "Fare             0\n",
       "Cabin          687\n",
       "Embarked         2\n",
       "dtype: int64"
      ]
     },
     "execution_count": 4,
     "metadata": {},
     "output_type": "execute_result"
    }
   ],
   "source": [
    "trainData.isnull().sum()"
   ]
  },
  {
   "cell_type": "markdown",
   "metadata": {},
   "source": [
    "### Age\n",
    "\n",
    "It turns out that whether **Age** is missing makes a perceptible difference in the chance of survival."
   ]
  },
  {
   "cell_type": "code",
   "execution_count": 5,
   "metadata": {},
   "outputs": [
    {
     "name": "stderr",
     "output_type": "stream",
     "text": [
      "/Users/zexi_ye/anaconda3/lib/python3.7/site-packages/ipykernel_launcher.py:2: SettingWithCopyWarning: \n",
      "A value is trying to be set on a copy of a slice from a DataFrame.\n",
      "Try using .loc[row_indexer,col_indexer] = value instead\n",
      "\n",
      "See the caveats in the documentation: http://pandas.pydata.org/pandas-docs/stable/user_guide/indexing.html#returning-a-view-versus-a-copy\n",
      "  \n"
     ]
    },
    {
     "data": {
      "text/html": [
       "<div>\n",
       "<style scoped>\n",
       "    .dataframe tbody tr th:only-of-type {\n",
       "        vertical-align: middle;\n",
       "    }\n",
       "\n",
       "    .dataframe tbody tr th {\n",
       "        vertical-align: top;\n",
       "    }\n",
       "\n",
       "    .dataframe thead th {\n",
       "        text-align: right;\n",
       "    }\n",
       "</style>\n",
       "<table border=\"1\" class=\"dataframe\">\n",
       "  <thead>\n",
       "    <tr style=\"text-align: right;\">\n",
       "      <th></th>\n",
       "      <th>Survived</th>\n",
       "    </tr>\n",
       "    <tr>\n",
       "      <th>AgeExists</th>\n",
       "      <th></th>\n",
       "    </tr>\n",
       "  </thead>\n",
       "  <tbody>\n",
       "    <tr>\n",
       "      <td>True</td>\n",
       "      <td>0.406162</td>\n",
       "    </tr>\n",
       "    <tr>\n",
       "      <td>False</td>\n",
       "      <td>0.293785</td>\n",
       "    </tr>\n",
       "  </tbody>\n",
       "</table>\n",
       "</div>"
      ],
      "text/plain": [
       "           Survived\n",
       "AgeExists          \n",
       "True       0.406162\n",
       "False      0.293785"
      ]
     },
     "execution_count": 5,
     "metadata": {},
     "output_type": "execute_result"
    }
   ],
   "source": [
    "tempDF = trainData[['Survived', 'Age']]\n",
    "tempDF['AgeExists'] = pd.notna(tempDF.Age)\n",
    "\n",
    "tempDF[['Survived', 'AgeExists']].groupby('AgeExists').mean().sort_values('Survived', ascending=False)"
   ]
  },
  {
   "cell_type": "markdown",
   "metadata": {},
   "source": [
    "### Cabin\n",
    "\n",
    "Likewise, whether **Cabin** is missing leads to a substantial discrepancy in the chance of survival."
   ]
  },
  {
   "cell_type": "code",
   "execution_count": 6,
   "metadata": {},
   "outputs": [
    {
     "name": "stderr",
     "output_type": "stream",
     "text": [
      "/Users/zexi_ye/anaconda3/lib/python3.7/site-packages/ipykernel_launcher.py:2: SettingWithCopyWarning: \n",
      "A value is trying to be set on a copy of a slice from a DataFrame.\n",
      "Try using .loc[row_indexer,col_indexer] = value instead\n",
      "\n",
      "See the caveats in the documentation: http://pandas.pydata.org/pandas-docs/stable/user_guide/indexing.html#returning-a-view-versus-a-copy\n",
      "  \n"
     ]
    },
    {
     "data": {
      "text/html": [
       "<div>\n",
       "<style scoped>\n",
       "    .dataframe tbody tr th:only-of-type {\n",
       "        vertical-align: middle;\n",
       "    }\n",
       "\n",
       "    .dataframe tbody tr th {\n",
       "        vertical-align: top;\n",
       "    }\n",
       "\n",
       "    .dataframe thead th {\n",
       "        text-align: right;\n",
       "    }\n",
       "</style>\n",
       "<table border=\"1\" class=\"dataframe\">\n",
       "  <thead>\n",
       "    <tr style=\"text-align: right;\">\n",
       "      <th></th>\n",
       "      <th>Survived</th>\n",
       "    </tr>\n",
       "    <tr>\n",
       "      <th>CabinExists</th>\n",
       "      <th></th>\n",
       "    </tr>\n",
       "  </thead>\n",
       "  <tbody>\n",
       "    <tr>\n",
       "      <td>True</td>\n",
       "      <td>0.666667</td>\n",
       "    </tr>\n",
       "    <tr>\n",
       "      <td>False</td>\n",
       "      <td>0.299854</td>\n",
       "    </tr>\n",
       "  </tbody>\n",
       "</table>\n",
       "</div>"
      ],
      "text/plain": [
       "             Survived\n",
       "CabinExists          \n",
       "True         0.666667\n",
       "False        0.299854"
      ]
     },
     "execution_count": 6,
     "metadata": {},
     "output_type": "execute_result"
    }
   ],
   "source": [
    "tempDF = trainData[['Survived', 'Cabin']]\n",
    "tempDF['CabinExists'] = pd.notna(tempDF.Cabin)\n",
    "\n",
    "tempDF[['Survived', 'CabinExists']].groupby('CabinExists').mean().sort_values('Survived', ascending=False)"
   ]
  },
  {
   "cell_type": "markdown",
   "metadata": {},
   "source": [
    "### Embarked\n",
    "\n",
    "For the column **Embarked**, since there are only 2 missing records, we will impute this field with the most common category."
   ]
  },
  {
   "cell_type": "code",
   "execution_count": 7,
   "metadata": {},
   "outputs": [],
   "source": [
    "embarkedMode = trainData.Embarked.mode().iloc[0]\n",
    "\n",
    "trainData['Embarked'] = trainData.Embarked.fillna(embarkedMode)"
   ]
  },
  {
   "cell_type": "markdown",
   "metadata": {},
   "source": [
    "### Ticket\n",
    "\n",
    "We are curious about whether Ticket contains characters would have an impact on the passenger's chance of survival, yet the data exhibit that it does not make a difference."
   ]
  },
  {
   "cell_type": "code",
   "execution_count": 8,
   "metadata": {},
   "outputs": [
    {
     "name": "stderr",
     "output_type": "stream",
     "text": [
      "/Users/zexi_ye/anaconda3/lib/python3.7/site-packages/ipykernel_launcher.py:2: SettingWithCopyWarning: \n",
      "A value is trying to be set on a copy of a slice from a DataFrame.\n",
      "Try using .loc[row_indexer,col_indexer] = value instead\n",
      "\n",
      "See the caveats in the documentation: http://pandas.pydata.org/pandas-docs/stable/user_guide/indexing.html#returning-a-view-versus-a-copy\n",
      "  \n"
     ]
    },
    {
     "data": {
      "text/html": [
       "<div>\n",
       "<style scoped>\n",
       "    .dataframe tbody tr th:only-of-type {\n",
       "        vertical-align: middle;\n",
       "    }\n",
       "\n",
       "    .dataframe tbody tr th {\n",
       "        vertical-align: top;\n",
       "    }\n",
       "\n",
       "    .dataframe thead th {\n",
       "        text-align: right;\n",
       "    }\n",
       "</style>\n",
       "<table border=\"1\" class=\"dataframe\">\n",
       "  <thead>\n",
       "    <tr style=\"text-align: right;\">\n",
       "      <th></th>\n",
       "      <th>Survived</th>\n",
       "    </tr>\n",
       "    <tr>\n",
       "      <th>TicketChar</th>\n",
       "      <th></th>\n",
       "    </tr>\n",
       "  </thead>\n",
       "  <tbody>\n",
       "    <tr>\n",
       "      <td>0</td>\n",
       "      <td>0.384266</td>\n",
       "    </tr>\n",
       "    <tr>\n",
       "      <td>1</td>\n",
       "      <td>0.382609</td>\n",
       "    </tr>\n",
       "  </tbody>\n",
       "</table>\n",
       "</div>"
      ],
      "text/plain": [
       "            Survived\n",
       "TicketChar          \n",
       "0           0.384266\n",
       "1           0.382609"
      ]
     },
     "execution_count": 8,
     "metadata": {},
     "output_type": "execute_result"
    }
   ],
   "source": [
    "tempDF = trainData[['Ticket', 'Survived']]\n",
    "tempDF['TicketChar'] = tempDF.Ticket.apply(lambda x: int(x.lower().islower()))\n",
    "\n",
    "tempDF[['Survived', 'TicketChar']].groupby('TicketChar').mean().sort_values('Survived', ascending=False)"
   ]
  },
  {
   "cell_type": "markdown",
   "metadata": {},
   "source": [
    "<a id=2></a>\n",
    "\n",
    "# Feature Engineering\n",
    "\n",
    "In this section, we will create a number of features based upon existing columns. Here is a list of features that will be engineered.\n",
    "\n",
    "<br>\n",
    "\n",
    "1. <font color='green'>NumFamMember</font> (int) - We add up SibSp and Parch to compute the number of family members who are on board with the passenger.\n",
    "\n",
    "\n",
    "2. <font color='green'>IsAlone</font> (binary) - From NumFamMember, we create a binary variable that indicates whether the passenger is on board alone. 0 means the passenger is traveling alone and 1 means he/she travels with at least one family member. \n",
    "\n",
    "\n",
    "3. <font color='green'>Title</font> (str) - We parse the title from passenger's name and denote it by \"Title.\" For instance, \"Mr.\" For titles other than common titles \"Mr.\", \"Miss.\", \"Mrs.\" and \"Master.\", we will address them by combining them into the most similar categories in the common titles or grouping them into a separate category called \"Rare.\"  \n",
    "\n",
    "\n",
    "4. <font color='green'>AgeExists</font> (binary) - Whether Age exists. 0 means missing and 1 means it exists.\n",
    "\n",
    "\n",
    "5. <font color='green'>AgeGroup</font> (int) - Age will be grouped into age ranges in an ordinal manner.\n",
    "\n",
    "\n",
    "6. <font color='green'>CabinExists</font> (binary) - Whether Cabin exists. 0 means missing and 1 means it exists.\n",
    "\n",
    "\n",
    "7. <font color='green'>Pclass * Sex</font> (int) - An interaction term between Pclass and Sex. Since Pclass and Sex account for large variation in the chance of survival, we speculate that an interaction term would come handy.\n",
    "\n",
    "\n",
    "8. <font color='green'>FareGroup</font> (int) - Fare will be grouped in fare ranges in an ordinal manner.\n",
    "\n",
    "\n",
    "9. <font color='green'>FarePerPersonGroup</font> (int) - Fare paid per person among family, grouped in an ordinal manner."
   ]
  },
  {
   "cell_type": "code",
   "execution_count": 9,
   "metadata": {},
   "outputs": [
    {
     "data": {
      "text/plain": [
       "Mr          517\n",
       "Miss        182\n",
       "Mrs         125\n",
       "Master       40\n",
       "Dr            7\n",
       "Rev           6\n",
       "Mlle          2\n",
       "Major         2\n",
       "Col           2\n",
       "Sir           1\n",
       "Mme           1\n",
       "Lady          1\n",
       "Jonkheer      1\n",
       "Capt          1\n",
       "Ms            1\n",
       "Countess      1\n",
       "Don           1\n",
       "Name: Name, dtype: int64"
      ]
     },
     "execution_count": 9,
     "metadata": {},
     "output_type": "execute_result"
    }
   ],
   "source": [
    "trainData.Name.str.extract(' ([A-Za-z]+)\\.', expand=False).value_counts()"
   ]
  },
  {
   "cell_type": "code",
   "execution_count": 2,
   "metadata": {},
   "outputs": [],
   "source": [
    "from collections import defaultdict\n",
    "\n",
    "# Create a dict that maps raw title to the desired end title\n",
    "titleCorrectionDict = defaultdict(lambda: 'Rare')\n",
    "titleCorrectionDict['Mr'] = 'Mr'\n",
    "titleCorrectionDict['Miss'] = 'Miss'\n",
    "titleCorrectionDict['Mrs'] = 'Mrs'\n",
    "titleCorrectionDict['Master'] = 'Master'\n",
    "titleCorrectionDict['Mlle'] = 'Miss'\n",
    "titleCorrectionDict['Mme'] = 'Mrs'\n",
    "titleCorrectionDict['Ms'] = 'Miss'\n",
    "\n",
    "# Create a dict that maps end title to a numerical identifier\n",
    "titleToNum = {'Mr': 0, 'Miss': 1, 'Mrs': 2, 'Master': 3, 'Rare': 4}"
   ]
  },
  {
   "cell_type": "code",
   "execution_count": 3,
   "metadata": {},
   "outputs": [],
   "source": [
    "def getBucket(value, intervals):\n",
    "    for i, upperBound in enumerate(intervals):\n",
    "        if value <= upperBound:\n",
    "            return i\n",
    "        \n",
    "    return len(intervals)\n",
    "    "
   ]
  },
  {
   "cell_type": "code",
   "execution_count": 4,
   "metadata": {},
   "outputs": [],
   "source": [
    "def augmentDataFrame(df, titleCorrectionDict, titleToNum, ageRange, fareRange, farePerPersonRange):\n",
    "    # Make a deep copy\n",
    "    df = df.copy()\n",
    "    \n",
    "    # Perform index encoding on categorical variables\n",
    "    df['Sex'] = df.Sex.map({'male': 0, 'female': 1})\n",
    "    df['Embarked'] = df.Embarked.map({'S': 0, 'Q': 1, 'C': 2})\n",
    "    \n",
    "    # 1. NumFamMember\n",
    "    df['NumFamMember'] = df.SibSp + df.Parch\n",
    "    \n",
    "    # 2. IsAlone\n",
    "    df['IsAlone'] = (df.NumFamMember == 0).astype(int)\n",
    "    \n",
    "    # 3. Title\n",
    "    # Isolate the title part from Name\n",
    "    df['Title'] = df.Name.str.extract(' ([A-Za-z]+)\\.', expand=False)\n",
    "    # Convert the raw title into the desired title\n",
    "    df['Title'] = df.Title.map(titleCorrectionDict)\n",
    "    # Index encoding\n",
    "    df['Title'] = df.Title.map(titleToNum)\n",
    "    \n",
    "    # 4. AgeExists\n",
    "    df['AgeExists'] = pd.notna(df.Age).astype(int)\n",
    "    \n",
    "    # 5. AgeGroup\n",
    "    # Fill na in age with median\n",
    "    df['Age'] = df.Age.fillna(df.Age.median())\n",
    "    df['AgeGroup'] = df.Age.apply(lambda x: getBucket(x, ageRange))\n",
    "\n",
    "    # 6. CabinExists\n",
    "    df['CabinExists'] = pd.notna(df.Cabin).astype(int)\n",
    "    \n",
    "    # 7. Pclass * Sex\n",
    "    df['Pclass_Sex'] = df.Pclass * df.Sex\n",
    "    \n",
    "    # 8. FareGroup\n",
    "    df['FareGroup'] = df.Fare.apply(lambda x: getBucket(x, fareRange))    \n",
    "    \n",
    "    # 9. FarePerPerson\n",
    "    df['FarePerPerson'] = df.Fare / (df.NumFamMember + 1)\n",
    "    df['FarePerPersonGroup'] = df.FarePerPerson.apply(lambda x: getBucket(x, farePerPersonRange))\n",
    "    \n",
    "    return df"
   ]
  },
  {
   "cell_type": "code",
   "execution_count": 5,
   "metadata": {},
   "outputs": [],
   "source": [
    "def cleanAndOneHotEncoding(df, keepCols, encodeCols):\n",
    "    df = df.copy()[keepCols]\n",
    "    df = pd.get_dummies(df, columns=encodeCols, drop_first=True)\n",
    "    return df"
   ]
  },
  {
   "cell_type": "markdown",
   "metadata": {},
   "source": [
    "**Augment the training data frame**"
   ]
  },
  {
   "cell_type": "code",
   "execution_count": 6,
   "metadata": {},
   "outputs": [],
   "source": [
    "# Define grouping thresholds\n",
    "ageRange = [16, 32, 48, 64]\n",
    "fareRange = [7.854, 10.5, 21.679, 39.688]\n",
    "farePerPersonRange = [7.142, 7.896, 10.5, 26.55]"
   ]
  },
  {
   "cell_type": "code",
   "execution_count": 15,
   "metadata": {},
   "outputs": [],
   "source": [
    "# Transform!\n",
    "trainDataAugmented = augmentDataFrame(trainData, titleCorrectionDict, titleToNum, ageRange, fareRange, farePerPersonRange)"
   ]
  },
  {
   "cell_type": "code",
   "execution_count": 16,
   "metadata": {},
   "outputs": [
    {
     "data": {
      "text/plain": [
       "Index(['PassengerId', 'Survived', 'Pclass', 'Name', 'Sex', 'Age', 'SibSp',\n",
       "       'Parch', 'Ticket', 'Fare', 'Cabin', 'Embarked', 'NumFamMember',\n",
       "       'IsAlone', 'Title', 'AgeExists', 'AgeGroup', 'CabinExists',\n",
       "       'Pclass_Sex', 'FareGroup', 'FarePerPerson', 'FarePerPersonGroup'],\n",
       "      dtype='object')"
      ]
     },
     "execution_count": 16,
     "metadata": {},
     "output_type": "execute_result"
    }
   ],
   "source": [
    "trainDataAugmented.columns"
   ]
  },
  {
   "cell_type": "code",
   "execution_count": 17,
   "metadata": {},
   "outputs": [],
   "source": [
    "# Drop extraneous columns and conduct one-hot encoding\n",
    "keepCols = ['Survived',\n",
    "            'Pclass',\n",
    "            'Sex',\n",
    "            'Embarked',\n",
    "            'NumFamMember',\n",
    "            'IsAlone',\n",
    "            'Title',\n",
    "            'AgeExists',\n",
    "            'AgeGroup',\n",
    "            'CabinExists',\n",
    "            'Pclass_Sex',\n",
    "            'FareGroup',\n",
    "            'FarePerPersonGroup']\n",
    "encodeCols = ['Embarked', 'Title']\n",
    "trainDataCleaned = cleanAndOneHotEncoding(trainDataAugmented, keepCols, encodeCols)"
   ]
  },
  {
   "cell_type": "code",
   "execution_count": 18,
   "metadata": {},
   "outputs": [
    {
     "data": {
      "text/plain": [
       "Index(['PassengerId', 'Survived', 'Pclass', 'Name', 'Sex', 'Age', 'SibSp',\n",
       "       'Parch', 'Ticket', 'Fare', 'Cabin', 'Embarked', 'NumFamMember',\n",
       "       'IsAlone', 'Title', 'AgeExists', 'AgeGroup', 'CabinExists',\n",
       "       'Pclass_Sex', 'FareGroup', 'FarePerPerson', 'FarePerPersonGroup'],\n",
       "      dtype='object')"
      ]
     },
     "execution_count": 18,
     "metadata": {},
     "output_type": "execute_result"
    }
   ],
   "source": [
    "trainDataAugmented.columns"
   ]
  },
  {
   "cell_type": "code",
   "execution_count": 19,
   "metadata": {},
   "outputs": [
    {
     "data": {
      "text/html": [
       "<div>\n",
       "<style scoped>\n",
       "    .dataframe tbody tr th:only-of-type {\n",
       "        vertical-align: middle;\n",
       "    }\n",
       "\n",
       "    .dataframe tbody tr th {\n",
       "        vertical-align: top;\n",
       "    }\n",
       "\n",
       "    .dataframe thead th {\n",
       "        text-align: right;\n",
       "    }\n",
       "</style>\n",
       "<table border=\"1\" class=\"dataframe\">\n",
       "  <thead>\n",
       "    <tr style=\"text-align: right;\">\n",
       "      <th></th>\n",
       "      <th>Survived</th>\n",
       "      <th>Pclass</th>\n",
       "      <th>Sex</th>\n",
       "      <th>NumFamMember</th>\n",
       "      <th>IsAlone</th>\n",
       "      <th>AgeExists</th>\n",
       "      <th>AgeGroup</th>\n",
       "      <th>CabinExists</th>\n",
       "      <th>Pclass_Sex</th>\n",
       "      <th>FareGroup</th>\n",
       "      <th>FarePerPersonGroup</th>\n",
       "      <th>Embarked_1</th>\n",
       "      <th>Embarked_2</th>\n",
       "      <th>Title_1</th>\n",
       "      <th>Title_2</th>\n",
       "      <th>Title_3</th>\n",
       "      <th>Title_4</th>\n",
       "    </tr>\n",
       "  </thead>\n",
       "  <tbody>\n",
       "    <tr>\n",
       "      <td>0</td>\n",
       "      <td>0</td>\n",
       "      <td>3</td>\n",
       "      <td>0</td>\n",
       "      <td>1</td>\n",
       "      <td>0</td>\n",
       "      <td>1</td>\n",
       "      <td>1</td>\n",
       "      <td>0</td>\n",
       "      <td>0</td>\n",
       "      <td>0</td>\n",
       "      <td>0</td>\n",
       "      <td>0</td>\n",
       "      <td>0</td>\n",
       "      <td>0</td>\n",
       "      <td>0</td>\n",
       "      <td>0</td>\n",
       "      <td>0</td>\n",
       "    </tr>\n",
       "    <tr>\n",
       "      <td>1</td>\n",
       "      <td>1</td>\n",
       "      <td>1</td>\n",
       "      <td>1</td>\n",
       "      <td>1</td>\n",
       "      <td>0</td>\n",
       "      <td>1</td>\n",
       "      <td>2</td>\n",
       "      <td>1</td>\n",
       "      <td>1</td>\n",
       "      <td>4</td>\n",
       "      <td>4</td>\n",
       "      <td>0</td>\n",
       "      <td>1</td>\n",
       "      <td>0</td>\n",
       "      <td>1</td>\n",
       "      <td>0</td>\n",
       "      <td>0</td>\n",
       "    </tr>\n",
       "    <tr>\n",
       "      <td>2</td>\n",
       "      <td>1</td>\n",
       "      <td>3</td>\n",
       "      <td>1</td>\n",
       "      <td>0</td>\n",
       "      <td>1</td>\n",
       "      <td>1</td>\n",
       "      <td>1</td>\n",
       "      <td>0</td>\n",
       "      <td>3</td>\n",
       "      <td>1</td>\n",
       "      <td>2</td>\n",
       "      <td>0</td>\n",
       "      <td>0</td>\n",
       "      <td>1</td>\n",
       "      <td>0</td>\n",
       "      <td>0</td>\n",
       "      <td>0</td>\n",
       "    </tr>\n",
       "    <tr>\n",
       "      <td>3</td>\n",
       "      <td>1</td>\n",
       "      <td>1</td>\n",
       "      <td>1</td>\n",
       "      <td>1</td>\n",
       "      <td>0</td>\n",
       "      <td>1</td>\n",
       "      <td>2</td>\n",
       "      <td>1</td>\n",
       "      <td>1</td>\n",
       "      <td>4</td>\n",
       "      <td>3</td>\n",
       "      <td>0</td>\n",
       "      <td>0</td>\n",
       "      <td>0</td>\n",
       "      <td>1</td>\n",
       "      <td>0</td>\n",
       "      <td>0</td>\n",
       "    </tr>\n",
       "    <tr>\n",
       "      <td>4</td>\n",
       "      <td>0</td>\n",
       "      <td>3</td>\n",
       "      <td>0</td>\n",
       "      <td>0</td>\n",
       "      <td>1</td>\n",
       "      <td>1</td>\n",
       "      <td>2</td>\n",
       "      <td>0</td>\n",
       "      <td>0</td>\n",
       "      <td>1</td>\n",
       "      <td>2</td>\n",
       "      <td>0</td>\n",
       "      <td>0</td>\n",
       "      <td>0</td>\n",
       "      <td>0</td>\n",
       "      <td>0</td>\n",
       "      <td>0</td>\n",
       "    </tr>\n",
       "    <tr>\n",
       "      <td>...</td>\n",
       "      <td>...</td>\n",
       "      <td>...</td>\n",
       "      <td>...</td>\n",
       "      <td>...</td>\n",
       "      <td>...</td>\n",
       "      <td>...</td>\n",
       "      <td>...</td>\n",
       "      <td>...</td>\n",
       "      <td>...</td>\n",
       "      <td>...</td>\n",
       "      <td>...</td>\n",
       "      <td>...</td>\n",
       "      <td>...</td>\n",
       "      <td>...</td>\n",
       "      <td>...</td>\n",
       "      <td>...</td>\n",
       "      <td>...</td>\n",
       "    </tr>\n",
       "    <tr>\n",
       "      <td>886</td>\n",
       "      <td>0</td>\n",
       "      <td>2</td>\n",
       "      <td>0</td>\n",
       "      <td>0</td>\n",
       "      <td>1</td>\n",
       "      <td>1</td>\n",
       "      <td>1</td>\n",
       "      <td>0</td>\n",
       "      <td>0</td>\n",
       "      <td>2</td>\n",
       "      <td>3</td>\n",
       "      <td>0</td>\n",
       "      <td>0</td>\n",
       "      <td>0</td>\n",
       "      <td>0</td>\n",
       "      <td>0</td>\n",
       "      <td>1</td>\n",
       "    </tr>\n",
       "    <tr>\n",
       "      <td>887</td>\n",
       "      <td>1</td>\n",
       "      <td>1</td>\n",
       "      <td>1</td>\n",
       "      <td>0</td>\n",
       "      <td>1</td>\n",
       "      <td>1</td>\n",
       "      <td>1</td>\n",
       "      <td>1</td>\n",
       "      <td>1</td>\n",
       "      <td>3</td>\n",
       "      <td>4</td>\n",
       "      <td>0</td>\n",
       "      <td>0</td>\n",
       "      <td>1</td>\n",
       "      <td>0</td>\n",
       "      <td>0</td>\n",
       "      <td>0</td>\n",
       "    </tr>\n",
       "    <tr>\n",
       "      <td>888</td>\n",
       "      <td>0</td>\n",
       "      <td>3</td>\n",
       "      <td>1</td>\n",
       "      <td>3</td>\n",
       "      <td>0</td>\n",
       "      <td>0</td>\n",
       "      <td>1</td>\n",
       "      <td>0</td>\n",
       "      <td>3</td>\n",
       "      <td>3</td>\n",
       "      <td>0</td>\n",
       "      <td>0</td>\n",
       "      <td>0</td>\n",
       "      <td>1</td>\n",
       "      <td>0</td>\n",
       "      <td>0</td>\n",
       "      <td>0</td>\n",
       "    </tr>\n",
       "    <tr>\n",
       "      <td>889</td>\n",
       "      <td>1</td>\n",
       "      <td>1</td>\n",
       "      <td>0</td>\n",
       "      <td>0</td>\n",
       "      <td>1</td>\n",
       "      <td>1</td>\n",
       "      <td>1</td>\n",
       "      <td>1</td>\n",
       "      <td>0</td>\n",
       "      <td>3</td>\n",
       "      <td>4</td>\n",
       "      <td>0</td>\n",
       "      <td>1</td>\n",
       "      <td>0</td>\n",
       "      <td>0</td>\n",
       "      <td>0</td>\n",
       "      <td>0</td>\n",
       "    </tr>\n",
       "    <tr>\n",
       "      <td>890</td>\n",
       "      <td>0</td>\n",
       "      <td>3</td>\n",
       "      <td>0</td>\n",
       "      <td>0</td>\n",
       "      <td>1</td>\n",
       "      <td>1</td>\n",
       "      <td>1</td>\n",
       "      <td>0</td>\n",
       "      <td>0</td>\n",
       "      <td>0</td>\n",
       "      <td>1</td>\n",
       "      <td>1</td>\n",
       "      <td>0</td>\n",
       "      <td>0</td>\n",
       "      <td>0</td>\n",
       "      <td>0</td>\n",
       "      <td>0</td>\n",
       "    </tr>\n",
       "  </tbody>\n",
       "</table>\n",
       "<p>891 rows × 17 columns</p>\n",
       "</div>"
      ],
      "text/plain": [
       "     Survived  Pclass  Sex  NumFamMember  IsAlone  AgeExists  AgeGroup  \\\n",
       "0           0       3    0             1        0          1         1   \n",
       "1           1       1    1             1        0          1         2   \n",
       "2           1       3    1             0        1          1         1   \n",
       "3           1       1    1             1        0          1         2   \n",
       "4           0       3    0             0        1          1         2   \n",
       "..        ...     ...  ...           ...      ...        ...       ...   \n",
       "886         0       2    0             0        1          1         1   \n",
       "887         1       1    1             0        1          1         1   \n",
       "888         0       3    1             3        0          0         1   \n",
       "889         1       1    0             0        1          1         1   \n",
       "890         0       3    0             0        1          1         1   \n",
       "\n",
       "     CabinExists  Pclass_Sex  FareGroup  FarePerPersonGroup  Embarked_1  \\\n",
       "0              0           0          0                   0           0   \n",
       "1              1           1          4                   4           0   \n",
       "2              0           3          1                   2           0   \n",
       "3              1           1          4                   3           0   \n",
       "4              0           0          1                   2           0   \n",
       "..           ...         ...        ...                 ...         ...   \n",
       "886            0           0          2                   3           0   \n",
       "887            1           1          3                   4           0   \n",
       "888            0           3          3                   0           0   \n",
       "889            1           0          3                   4           0   \n",
       "890            0           0          0                   1           1   \n",
       "\n",
       "     Embarked_2  Title_1  Title_2  Title_3  Title_4  \n",
       "0             0        0        0        0        0  \n",
       "1             1        0        1        0        0  \n",
       "2             0        1        0        0        0  \n",
       "3             0        0        1        0        0  \n",
       "4             0        0        0        0        0  \n",
       "..          ...      ...      ...      ...      ...  \n",
       "886           0        0        0        0        1  \n",
       "887           0        1        0        0        0  \n",
       "888           0        1        0        0        0  \n",
       "889           1        0        0        0        0  \n",
       "890           0        0        0        0        0  \n",
       "\n",
       "[891 rows x 17 columns]"
      ]
     },
     "execution_count": 19,
     "metadata": {},
     "output_type": "execute_result"
    }
   ],
   "source": [
    "trainDataCleaned"
   ]
  },
  {
   "cell_type": "markdown",
   "metadata": {},
   "source": [
    "## Train-Val Split\n",
    "\n",
    "We will split the training dataset into training set and validation set with a ratio of 90-10."
   ]
  },
  {
   "cell_type": "code",
   "execution_count": 20,
   "metadata": {},
   "outputs": [],
   "source": [
    "# Isolate X and Y\n",
    "X = trainDataCleaned.drop(columns=['Survived'])\n",
    "y = trainDataCleaned.Survived"
   ]
  },
  {
   "cell_type": "code",
   "execution_count": 21,
   "metadata": {},
   "outputs": [],
   "source": [
    "from sklearn.model_selection import train_test_split\n",
    "\n",
    "val_frac = 0.1\n",
    "\n",
    "X_train, X_val, y_train, y_val = train_test_split(X, y, test_size=val_frac, random_state=1995)"
   ]
  },
  {
   "cell_type": "markdown",
   "metadata": {},
   "source": [
    "**Here we save the training set and the validation set into two separate files.**"
   ]
  },
  {
   "cell_type": "code",
   "execution_count": 184,
   "metadata": {},
   "outputs": [],
   "source": [
    "# Save training set\n",
    "trainData.loc[X_train.index].to_csv('data/training_set.csv', index=False)\n",
    "\n",
    "# Save validation set\n",
    "trainData.loc[X_val.index].to_csv('data/validation_set.csv', index=False)"
   ]
  },
  {
   "cell_type": "markdown",
   "metadata": {},
   "source": [
    "**A snapshot of training set's features**"
   ]
  },
  {
   "cell_type": "code",
   "execution_count": 22,
   "metadata": {},
   "outputs": [
    {
     "data": {
      "text/html": [
       "<div>\n",
       "<style scoped>\n",
       "    .dataframe tbody tr th:only-of-type {\n",
       "        vertical-align: middle;\n",
       "    }\n",
       "\n",
       "    .dataframe tbody tr th {\n",
       "        vertical-align: top;\n",
       "    }\n",
       "\n",
       "    .dataframe thead th {\n",
       "        text-align: right;\n",
       "    }\n",
       "</style>\n",
       "<table border=\"1\" class=\"dataframe\">\n",
       "  <thead>\n",
       "    <tr style=\"text-align: right;\">\n",
       "      <th></th>\n",
       "      <th>Pclass</th>\n",
       "      <th>Sex</th>\n",
       "      <th>NumFamMember</th>\n",
       "      <th>IsAlone</th>\n",
       "      <th>AgeExists</th>\n",
       "      <th>AgeGroup</th>\n",
       "      <th>CabinExists</th>\n",
       "      <th>Pclass_Sex</th>\n",
       "      <th>FareGroup</th>\n",
       "      <th>FarePerPersonGroup</th>\n",
       "      <th>Embarked_1</th>\n",
       "      <th>Embarked_2</th>\n",
       "      <th>Title_1</th>\n",
       "      <th>Title_2</th>\n",
       "      <th>Title_3</th>\n",
       "      <th>Title_4</th>\n",
       "    </tr>\n",
       "  </thead>\n",
       "  <tbody>\n",
       "    <tr>\n",
       "      <td>505</td>\n",
       "      <td>1</td>\n",
       "      <td>0</td>\n",
       "      <td>1</td>\n",
       "      <td>0</td>\n",
       "      <td>1</td>\n",
       "      <td>1</td>\n",
       "      <td>1</td>\n",
       "      <td>0</td>\n",
       "      <td>4</td>\n",
       "      <td>4</td>\n",
       "      <td>0</td>\n",
       "      <td>1</td>\n",
       "      <td>0</td>\n",
       "      <td>0</td>\n",
       "      <td>0</td>\n",
       "      <td>0</td>\n",
       "    </tr>\n",
       "    <tr>\n",
       "      <td>31</td>\n",
       "      <td>1</td>\n",
       "      <td>1</td>\n",
       "      <td>1</td>\n",
       "      <td>0</td>\n",
       "      <td>0</td>\n",
       "      <td>1</td>\n",
       "      <td>1</td>\n",
       "      <td>1</td>\n",
       "      <td>4</td>\n",
       "      <td>4</td>\n",
       "      <td>0</td>\n",
       "      <td>1</td>\n",
       "      <td>0</td>\n",
       "      <td>1</td>\n",
       "      <td>0</td>\n",
       "      <td>0</td>\n",
       "    </tr>\n",
       "    <tr>\n",
       "      <td>513</td>\n",
       "      <td>1</td>\n",
       "      <td>1</td>\n",
       "      <td>1</td>\n",
       "      <td>0</td>\n",
       "      <td>1</td>\n",
       "      <td>3</td>\n",
       "      <td>0</td>\n",
       "      <td>1</td>\n",
       "      <td>4</td>\n",
       "      <td>4</td>\n",
       "      <td>0</td>\n",
       "      <td>1</td>\n",
       "      <td>0</td>\n",
       "      <td>1</td>\n",
       "      <td>0</td>\n",
       "      <td>0</td>\n",
       "    </tr>\n",
       "    <tr>\n",
       "      <td>834</td>\n",
       "      <td>3</td>\n",
       "      <td>0</td>\n",
       "      <td>0</td>\n",
       "      <td>1</td>\n",
       "      <td>1</td>\n",
       "      <td>1</td>\n",
       "      <td>0</td>\n",
       "      <td>0</td>\n",
       "      <td>1</td>\n",
       "      <td>2</td>\n",
       "      <td>0</td>\n",
       "      <td>0</td>\n",
       "      <td>0</td>\n",
       "      <td>0</td>\n",
       "      <td>0</td>\n",
       "      <td>0</td>\n",
       "    </tr>\n",
       "    <tr>\n",
       "      <td>595</td>\n",
       "      <td>3</td>\n",
       "      <td>0</td>\n",
       "      <td>2</td>\n",
       "      <td>0</td>\n",
       "      <td>1</td>\n",
       "      <td>2</td>\n",
       "      <td>0</td>\n",
       "      <td>0</td>\n",
       "      <td>3</td>\n",
       "      <td>2</td>\n",
       "      <td>0</td>\n",
       "      <td>0</td>\n",
       "      <td>0</td>\n",
       "      <td>0</td>\n",
       "      <td>0</td>\n",
       "      <td>0</td>\n",
       "    </tr>\n",
       "  </tbody>\n",
       "</table>\n",
       "</div>"
      ],
      "text/plain": [
       "     Pclass  Sex  NumFamMember  IsAlone  AgeExists  AgeGroup  CabinExists  \\\n",
       "505       1    0             1        0          1         1            1   \n",
       "31        1    1             1        0          0         1            1   \n",
       "513       1    1             1        0          1         3            0   \n",
       "834       3    0             0        1          1         1            0   \n",
       "595       3    0             2        0          1         2            0   \n",
       "\n",
       "     Pclass_Sex  FareGroup  FarePerPersonGroup  Embarked_1  Embarked_2  \\\n",
       "505           0          4                   4           0           1   \n",
       "31            1          4                   4           0           1   \n",
       "513           1          4                   4           0           1   \n",
       "834           0          1                   2           0           0   \n",
       "595           0          3                   2           0           0   \n",
       "\n",
       "     Title_1  Title_2  Title_3  Title_4  \n",
       "505        0        0        0        0  \n",
       "31         0        1        0        0  \n",
       "513        0        1        0        0  \n",
       "834        0        0        0        0  \n",
       "595        0        0        0        0  "
      ]
     },
     "execution_count": 22,
     "metadata": {},
     "output_type": "execute_result"
    }
   ],
   "source": [
    "X_train.head()"
   ]
  },
  {
   "cell_type": "markdown",
   "metadata": {},
   "source": [
    "<a id=3></a>\n",
    "\n",
    "# Modeling\n",
    "\n",
    "The following machine learning will be used to build classifiers.\n",
    "\n",
    "<br>\n",
    "\n",
    "<font color='green'>\n",
    "\n",
    "1) Logistic Regression\n",
    "\n",
    "2) Support Vector Machine (SVM)\n",
    "\n",
    "3) K-Nearest Neighbors (K-NN)\n",
    "\n",
    "4) Naive Bayes\n",
    "\n",
    "5) Random Forests\n",
    "\n",
    "6) Gradient Boosting Trees\n",
    "\n",
    "7) Blending\n",
    "    \n",
    "</font>"
   ]
  },
  {
   "cell_type": "markdown",
   "metadata": {},
   "source": [
    "## 1) Logistic Regression"
   ]
  },
  {
   "cell_type": "code",
   "execution_count": 142,
   "metadata": {
    "scrolled": true
   },
   "outputs": [],
   "source": [
    "from sklearn.linear_model import LogisticRegressionCV\n",
    "\n",
    "Cs = [10**t for t in range(-3, 5)]\n",
    "l1_ratios = np.array([0.0, 0.25, 0.5, 0.75, 1.0])\n",
    "clfLogistic = LogisticRegressionCV(Cs=Cs,\n",
    "                                   penalty='elasticnet',\n",
    "                                   cv=5,\n",
    "                                   max_iter=1000,\n",
    "                                   random_state=1995,\n",
    "                                   solver='saga',\n",
    "                                   l1_ratios=l1_ratios).fit(X_train, y_train)"
   ]
  },
  {
   "cell_type": "code",
   "execution_count": 156,
   "metadata": {},
   "outputs": [
    {
     "data": {
      "text/plain": [
       "array([1.e-03, 1.e-02, 1.e-01, 1.e+00, 1.e+01, 1.e+02, 1.e+03, 1.e+04])"
      ]
     },
     "execution_count": 156,
     "metadata": {},
     "output_type": "execute_result"
    }
   ],
   "source": [
    "clfLogistic.Cs_"
   ]
  },
  {
   "cell_type": "code",
   "execution_count": 154,
   "metadata": {},
   "outputs": [
    {
     "data": {
      "text/plain": [
       "array([1.])"
      ]
     },
     "execution_count": 154,
     "metadata": {},
     "output_type": "execute_result"
    }
   ],
   "source": [
    "clfLogistic.C_"
   ]
  },
  {
   "cell_type": "code",
   "execution_count": 155,
   "metadata": {},
   "outputs": [
    {
     "data": {
      "text/plain": [
       "array([0.75])"
      ]
     },
     "execution_count": 155,
     "metadata": {},
     "output_type": "execute_result"
    }
   ],
   "source": [
    "clfLogistic.l1_ratio_"
   ]
  },
  {
   "cell_type": "code",
   "execution_count": 160,
   "metadata": {},
   "outputs": [],
   "source": [
    "Cs = [0.5, 0.75, 1, 2, 5]\n",
    "l1_ratios = np.array([0.65, 0.7, 0.75, 0.8, 0.85, 0.9])\n",
    "clfLogistic = LogisticRegressionCV(Cs=Cs,\n",
    "                                   penalty='elasticnet',\n",
    "                                   cv=5,\n",
    "                                   max_iter=1000,\n",
    "                                   random_state=1995,\n",
    "                                   solver='saga',\n",
    "                                   l1_ratios=l1_ratios).fit(X_train, y_train)"
   ]
  },
  {
   "cell_type": "code",
   "execution_count": 161,
   "metadata": {},
   "outputs": [
    {
     "data": {
      "text/plain": [
       "array([2.])"
      ]
     },
     "execution_count": 161,
     "metadata": {},
     "output_type": "execute_result"
    }
   ],
   "source": [
    "clfLogistic.C_"
   ]
  },
  {
   "cell_type": "code",
   "execution_count": 162,
   "metadata": {},
   "outputs": [
    {
     "data": {
      "text/plain": [
       "array([0.85])"
      ]
     },
     "execution_count": 162,
     "metadata": {},
     "output_type": "execute_result"
    }
   ],
   "source": [
    "clfLogistic.l1_ratio_"
   ]
  },
  {
   "cell_type": "code",
   "execution_count": 163,
   "metadata": {},
   "outputs": [
    {
     "data": {
      "text/plain": [
       "0.83270911360799"
      ]
     },
     "execution_count": 163,
     "metadata": {},
     "output_type": "execute_result"
    }
   ],
   "source": [
    "clfLogistic.score(X_train, y_train)"
   ]
  },
  {
   "cell_type": "code",
   "execution_count": 164,
   "metadata": {},
   "outputs": [
    {
     "data": {
      "text/plain": [
       "0.8555555555555555"
      ]
     },
     "execution_count": 164,
     "metadata": {},
     "output_type": "execute_result"
    }
   ],
   "source": [
    "clfLogistic.score(X_val, y_val)"
   ]
  },
  {
   "cell_type": "markdown",
   "metadata": {},
   "source": [
    "**Save the logistic regression classifier**"
   ]
  },
  {
   "cell_type": "code",
   "execution_count": null,
   "metadata": {},
   "outputs": [],
   "source": [
    "from sklearn.externals import joblib\n",
    "\n",
    "# Save model\n",
    "outPath = 'models/lr.pickle'\n",
    "joblib.dump(clfLogistic, outPath)"
   ]
  },
  {
   "cell_type": "markdown",
   "metadata": {},
   "source": [
    "## 2) Support Vector Machine (SVM)"
   ]
  },
  {
   "cell_type": "code",
   "execution_count": 23,
   "metadata": {},
   "outputs": [],
   "source": [
    "from sklearn.svm import SVC\n",
    "from sklearn.model_selection import GridSearchCV\n",
    "from sklearn.preprocessing import StandardScaler"
   ]
  },
  {
   "cell_type": "markdown",
   "metadata": {},
   "source": [
    "**Standardize the training set**"
   ]
  },
  {
   "cell_type": "code",
   "execution_count": 24,
   "metadata": {},
   "outputs": [],
   "source": [
    "scaler = StandardScaler()\n",
    "scaler.fit(X_train)\n",
    "X_train_std = scaler.transform(X_train)\n",
    "X_val_std = scaler.transform(X_val)"
   ]
  },
  {
   "cell_type": "markdown",
   "metadata": {},
   "source": [
    "**Cross-validation**"
   ]
  },
  {
   "cell_type": "markdown",
   "metadata": {},
   "source": [
    "Linear kernel"
   ]
  },
  {
   "cell_type": "code",
   "execution_count": 31,
   "metadata": {},
   "outputs": [
    {
     "data": {
      "text/plain": [
       "GridSearchCV(cv=5, error_score='raise-deprecating',\n",
       "             estimator=SVC(C=1.0, cache_size=200, class_weight=None, coef0=0.0,\n",
       "                           decision_function_shape='ovr', degree=3,\n",
       "                           gamma='auto_deprecated', kernel='rbf', max_iter=-1,\n",
       "                           probability=False, random_state=None, shrinking=True,\n",
       "                           tol=0.001, verbose=False),\n",
       "             iid='warn', n_jobs=None,\n",
       "             param_grid=[{'C': [0.01, 0.1, 1, 10, 100], 'kernel': ['linear']}],\n",
       "             pre_dispatch='2*n_jobs', refit=True, return_train_score=False,\n",
       "             scoring=None, verbose=0)"
      ]
     },
     "execution_count": 31,
     "metadata": {},
     "output_type": "execute_result"
    }
   ],
   "source": [
    "# Param grid for SVM\n",
    "param_grid = {'kernel': ['linear'], 'C': [10**t for t in range(-2, 3)]}\n",
    "\n",
    "# Instantiate SVM classifier\n",
    "svcClf_linear = SVC()\n",
    "\n",
    "# Cross-validation\n",
    "cv = GridSearchCV(svcClf_linear, param_grid=param_grid, cv=5)\n",
    "cv.fit(X_train_std, y_train)"
   ]
  },
  {
   "cell_type": "code",
   "execution_count": 32,
   "metadata": {},
   "outputs": [
    {
     "data": {
      "text/plain": [
       "SVC(C=100, cache_size=200, class_weight=None, coef0=0.0,\n",
       "    decision_function_shape='ovr', degree=3, gamma='auto_deprecated',\n",
       "    kernel='linear', max_iter=-1, probability=False, random_state=None,\n",
       "    shrinking=True, tol=0.001, verbose=False)"
      ]
     },
     "execution_count": 32,
     "metadata": {},
     "output_type": "execute_result"
    }
   ],
   "source": [
    "cv.best_estimator_"
   ]
  },
  {
   "cell_type": "code",
   "execution_count": 35,
   "metadata": {},
   "outputs": [],
   "source": [
    "svcClf_linear = cv.best_estimator_"
   ]
  },
  {
   "cell_type": "markdown",
   "metadata": {},
   "source": [
    "Polynomial kernel"
   ]
  },
  {
   "cell_type": "code",
   "execution_count": 51,
   "metadata": {},
   "outputs": [
    {
     "data": {
      "text/plain": [
       "GridSearchCV(cv=5, error_score='raise-deprecating',\n",
       "             estimator=SVC(C=1.0, cache_size=200, class_weight=None, coef0=0.0,\n",
       "                           decision_function_shape='ovr', degree=3,\n",
       "                           gamma='auto_deprecated', kernel='rbf', max_iter=-1,\n",
       "                           probability=False, random_state=None, shrinking=True,\n",
       "                           tol=0.001, verbose=False),\n",
       "             iid='warn', n_jobs=None,\n",
       "             param_grid={'C': [0.1, 1, 10], 'degree': [3],\n",
       "                         'gamma': [0.1, 1, 10], 'kernel': ['poly']},\n",
       "             pre_dispatch='2*n_jobs', refit=True, return_train_score=False,\n",
       "             scoring=None, verbose=0)"
      ]
     },
     "execution_count": 51,
     "metadata": {},
     "output_type": "execute_result"
    }
   ],
   "source": [
    "# Param grid for SVM\n",
    "param_grid = {'kernel': ['poly'], 'C': [10**t for t in range(-1, 2)], 'degree': [3], 'gamma': [10**t for t in range(-1, 2)]}\n",
    "\n",
    "# Instantiate SVM classifier\n",
    "svcClf_poly = SVC()\n",
    "\n",
    "# Cross-validation\n",
    "cv = GridSearchCV(svcClf_poly, param_grid=param_grid, cv=5)\n",
    "cv.fit(X_train_std, y_train)"
   ]
  },
  {
   "cell_type": "code",
   "execution_count": 53,
   "metadata": {},
   "outputs": [],
   "source": [
    "svcClf_poly = cv.best_estimator_"
   ]
  },
  {
   "cell_type": "markdown",
   "metadata": {},
   "source": [
    "RBF kernel"
   ]
  },
  {
   "cell_type": "code",
   "execution_count": 54,
   "metadata": {},
   "outputs": [
    {
     "name": "stderr",
     "output_type": "stream",
     "text": [
      "/Users/zexi_ye/anaconda3/lib/python3.7/site-packages/sklearn/model_selection/_search.py:814: DeprecationWarning: The default of the `iid` parameter will change from True to False in version 0.22 and will be removed in 0.24. This will change numeric results when test-set sizes are unequal.\n",
      "  DeprecationWarning)\n"
     ]
    },
    {
     "data": {
      "text/plain": [
       "GridSearchCV(cv=5, error_score='raise-deprecating',\n",
       "             estimator=SVC(C=1.0, cache_size=200, class_weight=None, coef0=0.0,\n",
       "                           decision_function_shape='ovr', degree=3,\n",
       "                           gamma='auto_deprecated', kernel='rbf', max_iter=-1,\n",
       "                           probability=False, random_state=None, shrinking=True,\n",
       "                           tol=0.001, verbose=False),\n",
       "             iid='warn', n_jobs=None,\n",
       "             param_grid={'C': [1e-05, 0.0001, 0.001, 0.01, 0.1, 1, 10, 100,\n",
       "                               1000, 10000],\n",
       "                         'gamma': [1e-05, 0.0001, 0.001, 0.01, 0.1, 1, 10, 100,\n",
       "                                   1000, 10000],\n",
       "                         'kernel': ['rbf']},\n",
       "             pre_dispatch='2*n_jobs', refit=True, return_train_score=False,\n",
       "             scoring=None, verbose=0)"
      ]
     },
     "execution_count": 54,
     "metadata": {},
     "output_type": "execute_result"
    }
   ],
   "source": [
    "# Param grid for SVM\n",
    "param_grid = {'kernel': ['rbf'], 'C': [10**t for t in range(-5, 5)], 'gamma': [10**t for t in range(-5, 5)]}\n",
    "\n",
    "# Instantiate SVM classifier\n",
    "svcClf_rbf = SVC()\n",
    "\n",
    "# Cross-validation\n",
    "cv = GridSearchCV(svcClf_rbf, param_grid=param_grid, cv=5)\n",
    "cv.fit(X_train_std, y_train)"
   ]
  },
  {
   "cell_type": "code",
   "execution_count": 58,
   "metadata": {},
   "outputs": [],
   "source": [
    "svcClf_rbf = cv.best_estimator_"
   ]
  },
  {
   "cell_type": "code",
   "execution_count": 60,
   "metadata": {},
   "outputs": [
    {
     "name": "stdout",
     "output_type": "stream",
     "text": [
      "SVM with Linear kernel has an avg score of 0.833\n",
      "SVM with Polynomial kernel has an avg score of 0.825\n",
      "SVM with RBF kernel has an avg score of 0.834\n"
     ]
    }
   ],
   "source": [
    "from sklearn.model_selection import cross_val_score\n",
    "\n",
    "svcClfs = [svcClf_linear, svcClf_poly, svcClf_rbf]\n",
    "svcClf_names = ['Linear', 'Polynomial', 'RBF']\n",
    "\n",
    "for clf, name in zip(svcClfs, svcClf_names):\n",
    "    cvScores = cross_val_score(clf, X_train_std, y_train, cv=5)\n",
    "    print(f'SVM with {name} kernel has an avg score of {cvScores.mean():0.3f}')"
   ]
  },
  {
   "cell_type": "markdown",
   "metadata": {},
   "source": [
    "**Save the SVM classifier**\n",
    "\n",
    "Per the cross-validation score above, we will save the SVM classifier with RBF kernel.\n",
    "\n",
    "Nevertheless, before we save the model, we will retrain the classifier with the probability flag on so that it will be able to produce probability estimates. Later on we will plot ROC curves among our trained classifiers; thus, it is indispensable that every classifier has to be able to output predicted probabilities."
   ]
  },
  {
   "cell_type": "code",
   "execution_count": 75,
   "metadata": {},
   "outputs": [
    {
     "data": {
      "text/plain": [
       "SVC(C=100, cache_size=200, class_weight=None, coef0=0.0,\n",
       "    decision_function_shape='ovr', degree=3, gamma=0.001, kernel='rbf',\n",
       "    max_iter=-1, probability=True, random_state=None, shrinking=True, tol=0.001,\n",
       "    verbose=False)"
      ]
     },
     "execution_count": 75,
     "metadata": {},
     "output_type": "execute_result"
    }
   ],
   "source": [
    "# Retrain SVM with arg probability=True\n",
    "svcClf_rbf = SVC(C=svcClf_rbf.C, kernel=svcClf_rbf.kernel, gamma=svcClf_rbf.gamma, probability=True)\n",
    "svcClf_rbf.fit(X_train_std, y_train)"
   ]
  },
  {
   "cell_type": "code",
   "execution_count": null,
   "metadata": {
    "scrolled": true
   },
   "outputs": [],
   "source": [
    "# Save a pipeline that consists of standard scaler and SVM classifier\n",
    "\n",
    "from sklearn.pipeline import Pipeline\n",
    "\n",
    "svcPipeline = Pipeline([('scaler', scaler), ('classifier', svcClf_rbf)])\n",
    "\n",
    "outPath = 'models/svm.pickle'\n",
    "joblib.dump(svcPipeline, outPath)"
   ]
  },
  {
   "cell_type": "markdown",
   "metadata": {},
   "source": [
    "## 3) K-Nearest Neighbors"
   ]
  },
  {
   "cell_type": "code",
   "execution_count": 64,
   "metadata": {},
   "outputs": [
    {
     "name": "stderr",
     "output_type": "stream",
     "text": [
      "/Users/zexi_ye/anaconda3/lib/python3.7/site-packages/sklearn/model_selection/_search.py:814: DeprecationWarning: The default of the `iid` parameter will change from True to False in version 0.22 and will be removed in 0.24. This will change numeric results when test-set sizes are unequal.\n",
      "  DeprecationWarning)\n"
     ]
    },
    {
     "data": {
      "text/plain": [
       "GridSearchCV(cv=5, error_score='raise-deprecating',\n",
       "             estimator=KNeighborsClassifier(algorithm='auto', leaf_size=30,\n",
       "                                            metric='minkowski',\n",
       "                                            metric_params=None, n_jobs=None,\n",
       "                                            n_neighbors=5, p=2,\n",
       "                                            weights='uniform'),\n",
       "             iid='warn', n_jobs=None,\n",
       "             param_grid={'n_neighbors': [3, 5, 7, 9, 11, 13],\n",
       "                         'weights': ['uniform', 'distance']},\n",
       "             pre_dispatch='2*n_jobs', refit=True, return_train_score=False,\n",
       "             scoring=None, verbose=0)"
      ]
     },
     "execution_count": 64,
     "metadata": {},
     "output_type": "execute_result"
    }
   ],
   "source": [
    "from sklearn.neighbors import KNeighborsClassifier\n",
    "\n",
    "# Instantiate KNN classifier\n",
    "knnClf = KNeighborsClassifier()\n",
    "\n",
    "# Cross-validation\n",
    "param_grid = {'n_neighbors': [3, 5, 7, 9, 11, 13], 'weights': ['uniform', 'distance']}\n",
    "cv = GridSearchCV(knnClf, param_grid=param_grid, cv=5)\n",
    "cv.fit(X_train_std, y_train)"
   ]
  },
  {
   "cell_type": "code",
   "execution_count": 65,
   "metadata": {},
   "outputs": [
    {
     "data": {
      "text/plain": [
       "KNeighborsClassifier(algorithm='auto', leaf_size=30, metric='minkowski',\n",
       "                     metric_params=None, n_jobs=None, n_neighbors=9, p=2,\n",
       "                     weights='distance')"
      ]
     },
     "execution_count": 65,
     "metadata": {},
     "output_type": "execute_result"
    }
   ],
   "source": [
    "cv.best_estimator_"
   ]
  },
  {
   "cell_type": "code",
   "execution_count": null,
   "metadata": {},
   "outputs": [],
   "source": [
    "# Save a pipeline that consists of standard scaler and K-NN classifier\n",
    "\n",
    "knnClf = cv.best_estimator_\n",
    "knnPipeline = Pipeline([('scaler', scaler), ('classifier', knnClf)])\n",
    "\n",
    "outPath = 'models/knn.pickle'\n",
    "joblib.dump(knnPipeline, outPath)"
   ]
  },
  {
   "cell_type": "code",
   "execution_count": 69,
   "metadata": {},
   "outputs": [
    {
     "data": {
      "text/plain": [
       "0.8666666666666667"
      ]
     },
     "execution_count": 69,
     "metadata": {},
     "output_type": "execute_result"
    }
   ],
   "source": [
    "knnClf.score(X_val_std, y_val)"
   ]
  },
  {
   "cell_type": "markdown",
   "metadata": {},
   "source": [
    "## 4) Naive Bayes\n",
    "\n",
    "Due to the presence of numerical features, we will use Gaussian Naive Bayes despite many of the features are categorical."
   ]
  },
  {
   "cell_type": "code",
   "execution_count": 79,
   "metadata": {},
   "outputs": [
    {
     "data": {
      "text/plain": [
       "GaussianNB(priors=None, var_smoothing=1e-09)"
      ]
     },
     "execution_count": 79,
     "metadata": {},
     "output_type": "execute_result"
    }
   ],
   "source": [
    "from sklearn.naive_bayes import GaussianNB\n",
    "\n",
    "# Instantiate a GaussianNB classifier\n",
    "# Since Naive Bayes doesn't have tunable hyperparameters, no cross-validation here\n",
    "nbClf = GaussianNB()\n",
    "nbClf.fit(X_train, y_train)"
   ]
  },
  {
   "cell_type": "markdown",
   "metadata": {},
   "source": [
    "**Save the Naive Bayes classifier**"
   ]
  },
  {
   "cell_type": "code",
   "execution_count": null,
   "metadata": {},
   "outputs": [],
   "source": [
    "outPath = 'models/nb.pickle'\n",
    "joblib.dump(nbClf, outPath)"
   ]
  },
  {
   "cell_type": "markdown",
   "metadata": {},
   "source": [
    "## 5) Random Forests"
   ]
  },
  {
   "cell_type": "code",
   "execution_count": 83,
   "metadata": {},
   "outputs": [],
   "source": [
    "from sklearn.ensemble import RandomForestClassifier\n",
    "\n",
    "param_grid = {'n_estimators': [25, 50, 100, 200, 400], 'max_features': ['sqrt', None]}\n",
    "listOfRandomForests = []\n",
    "\n",
    "for n in param_grid['n_estimators']:\n",
    "    for m in param_grid['max_features']:\n",
    "        rfClf = RandomForestClassifier(n_estimators=n, max_features=m, oob_score=True)\n",
    "        rfClf.fit(X_train, y_train)\n",
    "        listOfRandomForests.append(rfClf)"
   ]
  },
  {
   "cell_type": "code",
   "execution_count": 87,
   "metadata": {},
   "outputs": [
    {
     "name": "stdout",
     "output_type": "stream",
     "text": [
      "Num of estimators 25, Num of features sqrt\n",
      "OOB accuracy 0.814\n",
      "\n",
      "Num of estimators 25, Num of features None\n",
      "OOB accuracy 0.816\n",
      "\n",
      "Num of estimators 50, Num of features sqrt\n",
      "OOB accuracy 0.823\n",
      "\n",
      "Num of estimators 50, Num of features None\n",
      "OOB accuracy 0.823\n",
      "\n",
      "Num of estimators 100, Num of features sqrt\n",
      "OOB accuracy 0.821\n",
      "\n",
      "Num of estimators 100, Num of features None\n",
      "OOB accuracy 0.819\n",
      "\n",
      "Num of estimators 200, Num of features sqrt\n",
      "OOB accuracy 0.829\n",
      "\n",
      "Num of estimators 200, Num of features None\n",
      "OOB accuracy 0.815\n",
      "\n",
      "Num of estimators 400, Num of features sqrt\n",
      "OOB accuracy 0.818\n",
      "\n",
      "Num of estimators 400, Num of features None\n",
      "OOB accuracy 0.823\n",
      "\n"
     ]
    }
   ],
   "source": [
    "for rf in listOfRandomForests:\n",
    "    print('Num of estimators {}, Num of features {}'.format(len(rf.estimators_), rf.max_features))\n",
    "    print('OOB accuracy {:.3f}'.format(rf.oob_score_))\n",
    "    print()"
   ]
  },
  {
   "cell_type": "markdown",
   "metadata": {},
   "source": [
    "**Find the best random forest classifier and save it**"
   ]
  },
  {
   "cell_type": "code",
   "execution_count": 88,
   "metadata": {},
   "outputs": [],
   "source": [
    "# Find the best classifier\n",
    "\n",
    "bestScore = 0\n",
    "rfClf = None\n",
    "for rf in listOfRandomForests:\n",
    "    if rf.oob_score_ > bestScore:\n",
    "        rfClf = rf\n",
    "        bestScore = rf.oob_score_"
   ]
  },
  {
   "cell_type": "code",
   "execution_count": 89,
   "metadata": {},
   "outputs": [
    {
     "data": {
      "text/plain": [
       "RandomForestClassifier(bootstrap=True, class_weight=None, criterion='gini',\n",
       "                       max_depth=None, max_features='sqrt', max_leaf_nodes=None,\n",
       "                       min_impurity_decrease=0.0, min_impurity_split=None,\n",
       "                       min_samples_leaf=1, min_samples_split=2,\n",
       "                       min_weight_fraction_leaf=0.0, n_estimators=200,\n",
       "                       n_jobs=None, oob_score=True, random_state=None,\n",
       "                       verbose=0, warm_start=False)"
      ]
     },
     "execution_count": 89,
     "metadata": {},
     "output_type": "execute_result"
    }
   ],
   "source": [
    "rfClf"
   ]
  },
  {
   "cell_type": "markdown",
   "metadata": {},
   "source": [
    "**Feature Importance**\n",
    "\n",
    "Here we illustrate the feature important in relative terms using a bar chart."
   ]
  },
  {
   "cell_type": "code",
   "execution_count": 109,
   "metadata": {},
   "outputs": [
    {
     "data": {
      "image/png": "[encoded data removed]",
      "text/plain": [
       "<Figure size 864x432 with 1 Axes>"
      ]
     },
     "metadata": {},
     "output_type": "display_data"
    }
   ],
   "source": [
    "fiDF = pd.DataFrame({'Feature': X_train.columns, 'Score': rfClf.feature_importances_}).sort_values(by='Score', ascending=False)\n",
    "fig, ax = plt.subplots(figsize=(12, 6))\n",
    "sns.barplot(x='Feature', y='Score', palette=sns.color_palette(), data=fiDF, ax=ax)\n",
    "ax.set_title('Feature Importance by Random Forest')\n",
    "ax.tick_params('x', labelrotation=45)\n",
    "plt.tight_layout()\n",
    "plt.show()"
   ]
  },
  {
   "cell_type": "code",
   "execution_count": null,
   "metadata": {},
   "outputs": [],
   "source": [
    "# Save the random forest classifier\n",
    "\n",
    "outPath = 'models/rf.pickle'\n",
    "joblib.dump(rfClf, outPath)"
   ]
  },
  {
   "cell_type": "markdown",
   "metadata": {},
   "source": [
    "## 6) Gradient Boosting"
   ]
  },
  {
   "cell_type": "code",
   "execution_count": 113,
   "metadata": {},
   "outputs": [
    {
     "data": {
      "text/plain": [
       "GridSearchCV(cv=5, error_score='raise-deprecating',\n",
       "             estimator=GradientBoostingClassifier(criterion='friedman_mse',\n",
       "                                                  init=None, learning_rate=0.1,\n",
       "                                                  loss='deviance', max_depth=3,\n",
       "                                                  max_features=None,\n",
       "                                                  max_leaf_nodes=None,\n",
       "                                                  min_impurity_decrease=0.0,\n",
       "                                                  min_impurity_split=None,\n",
       "                                                  min_samples_leaf=1,\n",
       "                                                  min_samples_split=2,\n",
       "                                                  min_weight_fraction_leaf=0.0,\n",
       "                                                  n_estimators=100,\n",
       "                                                  n_iter_no_change=None,\n",
       "                                                  presort='auto',\n",
       "                                                  random_state=None,\n",
       "                                                  subsample=1.0, tol=0.0001,\n",
       "                                                  validation_fraction=0.1,\n",
       "                                                  verbose=0, warm_start=False),\n",
       "             iid='warn', n_jobs=None,\n",
       "             param_grid={'learning_rate': [0.01, 0.05, 0.1, 0.2, 0.3, 0.5],\n",
       "                         'n_estimators': [100, 200, 300, 400]},\n",
       "             pre_dispatch='2*n_jobs', refit=True, return_train_score=False,\n",
       "             scoring=None, verbose=0)"
      ]
     },
     "execution_count": 113,
     "metadata": {},
     "output_type": "execute_result"
    }
   ],
   "source": [
    "from sklearn.ensemble import GradientBoostingClassifier\n",
    "\n",
    "# Instantiate Gradient Boosting classifier\n",
    "gbClf = GradientBoostingClassifier()\n",
    "\n",
    "# Cross-validation\n",
    "param_grid = {'learning_rate': [0.01, 0.05, 0.1, 0.2, 0.3, 0.5], 'n_estimators': [100, 200, 300, 400]}\n",
    "cv = GridSearchCV(gbClf, param_grid=param_grid, cv=5)\n",
    "cv.fit(X_train, y_train)"
   ]
  },
  {
   "cell_type": "code",
   "execution_count": 115,
   "metadata": {},
   "outputs": [
    {
     "data": {
      "text/plain": [
       "GradientBoostingClassifier(criterion='friedman_mse', init=None,\n",
       "                           learning_rate=0.05, loss='deviance', max_depth=3,\n",
       "                           max_features=None, max_leaf_nodes=None,\n",
       "                           min_impurity_decrease=0.0, min_impurity_split=None,\n",
       "                           min_samples_leaf=1, min_samples_split=2,\n",
       "                           min_weight_fraction_leaf=0.0, n_estimators=100,\n",
       "                           n_iter_no_change=None, presort='auto',\n",
       "                           random_state=None, subsample=1.0, tol=0.0001,\n",
       "                           validation_fraction=0.1, verbose=0,\n",
       "                           warm_start=False)"
      ]
     },
     "execution_count": 115,
     "metadata": {},
     "output_type": "execute_result"
    }
   ],
   "source": [
    "cv.best_estimator_"
   ]
  },
  {
   "cell_type": "code",
   "execution_count": null,
   "metadata": {},
   "outputs": [],
   "source": [
    "# Extract best gradient boosting estimator\n",
    "gbClf = cv.best_estimator_\n",
    "\n",
    "# Save it\n",
    "outPath = 'models/gb.pickle'\n",
    "joblib.dump(gbClf, outPath)"
   ]
  },
  {
   "cell_type": "markdown",
   "metadata": {},
   "source": [
    "## 7) Blending\n",
    "\n",
    "We will build an ensemble model using the blending technique. More specifically, the following steps will be conducted.\n",
    "\n",
    "1. Split the training data into Set 1 (80%) and Set 2 (20%)\n",
    "2. Train 4 types of classifiers (**logistic regression**, **K-NN**, **random forest** and **gradient boosting trees**) on Set 1.\n",
    "3. After the base classifiers are trained, ask them to make prediction on Set 2 and use their predicted probabilities to train a **logistic regression** on Set 2."
   ]
  },
  {
   "cell_type": "markdown",
   "metadata": {},
   "source": [
    "### Step 1: Split the training set"
   ]
  },
  {
   "cell_type": "code",
   "execution_count": 120,
   "metadata": {},
   "outputs": [],
   "source": [
    "# Split\n",
    "X_train_1, X_train_2, y_train_1, y_train_2 = train_test_split(X_train, y_train, test_size=0.2, random_state=1995)"
   ]
  },
  {
   "cell_type": "code",
   "execution_count": 121,
   "metadata": {},
   "outputs": [],
   "source": [
    "# Standardize the X's\n",
    "scalerBlending = StandardScaler()\n",
    "X_train_1_std = scalerBlending.fit_transform(X_train_1)\n",
    "X_train_2_std = scalerBlending.transform(X_train_2)"
   ]
  },
  {
   "cell_type": "markdown",
   "metadata": {},
   "source": [
    "### Step 2: Train base classifiers"
   ]
  },
  {
   "cell_type": "markdown",
   "metadata": {},
   "source": [
    "**Logistic regression**"
   ]
  },
  {
   "cell_type": "code",
   "execution_count": 123,
   "metadata": {},
   "outputs": [],
   "source": [
    "from sklearn.linear_model import LogisticRegressionCV\n",
    "\n",
    "# Cross-validation and fit\n",
    "Cs = [10**t for t in range(-3, 5)]\n",
    "l1_ratios = np.array([0.0, 0.25, 0.5, 0.75, 1.0])\n",
    "blendingLR = LogisticRegressionCV(Cs=Cs,\n",
    "                                   penalty='elasticnet',\n",
    "                                   cv=5,\n",
    "                                   max_iter=1000,\n",
    "                                   random_state=1995,\n",
    "                                   solver='saga',\n",
    "                                   l1_ratios=l1_ratios).fit(X_train_1, y_train_1)"
   ]
  },
  {
   "cell_type": "markdown",
   "metadata": {},
   "source": [
    "**K-NN**"
   ]
  },
  {
   "cell_type": "code",
   "execution_count": 127,
   "metadata": {},
   "outputs": [
    {
     "data": {
      "text/plain": [
       "GridSearchCV(cv=5, error_score='raise-deprecating',\n",
       "             estimator=KNeighborsClassifier(algorithm='auto', leaf_size=30,\n",
       "                                            metric='minkowski',\n",
       "                                            metric_params=None, n_jobs=None,\n",
       "                                            n_neighbors=9, p=2,\n",
       "                                            weights='distance'),\n",
       "             iid='warn', n_jobs=None,\n",
       "             param_grid={'n_neighbors': [3, 5, 7, 9, 11, 13, 15, 17],\n",
       "                         'weights': ['uniform', 'distance']},\n",
       "             pre_dispatch='2*n_jobs', refit=True, return_train_score=False,\n",
       "             scoring=None, verbose=0)"
      ]
     },
     "execution_count": 127,
     "metadata": {},
     "output_type": "execute_result"
    }
   ],
   "source": [
    "# Instantiate KNN classifier\n",
    "blendingKNN = KNeighborsClassifier()\n",
    "\n",
    "# Cross-validation\n",
    "param_grid = {'n_neighbors': [3, 5, 7, 9, 11, 13, 15, 17], 'weights': ['uniform', 'distance']}\n",
    "cv = GridSearchCV(knnClf, param_grid=param_grid, cv=5)\n",
    "cv.fit(X_train_1_std, y_train_1)"
   ]
  },
  {
   "cell_type": "code",
   "execution_count": 128,
   "metadata": {},
   "outputs": [],
   "source": [
    "# Extract best estimator\n",
    "blendingKNN = cv.best_estimator_"
   ]
  },
  {
   "cell_type": "markdown",
   "metadata": {},
   "source": [
    "**Random Forest**"
   ]
  },
  {
   "cell_type": "code",
   "execution_count": 129,
   "metadata": {},
   "outputs": [],
   "source": [
    "param_grid = {'n_estimators': [25, 50, 100, 200, 400], 'max_features': ['sqrt', None]}\n",
    "listOfRandomForestsBlending = []\n",
    "\n",
    "for n in param_grid['n_estimators']:\n",
    "    for m in param_grid['max_features']:\n",
    "        rfClf = RandomForestClassifier(n_estimators=n, max_features=m, oob_score=True)\n",
    "        rfClf.fit(X_train_1, y_train_1)\n",
    "        listOfRandomForestsBlending.append(rfClf)"
   ]
  },
  {
   "cell_type": "code",
   "execution_count": 130,
   "metadata": {},
   "outputs": [],
   "source": [
    "# Find the best classifier\n",
    "\n",
    "bestScore = 0\n",
    "blendingRF = None\n",
    "for rf in listOfRandomForests:\n",
    "    if rf.oob_score_ > bestScore:\n",
    "        blendingRF = rf\n",
    "        bestScore = rf.oob_score_"
   ]
  },
  {
   "cell_type": "markdown",
   "metadata": {},
   "source": [
    "**Gradient Boosting Trees**"
   ]
  },
  {
   "cell_type": "code",
   "execution_count": 132,
   "metadata": {},
   "outputs": [
    {
     "name": "stderr",
     "output_type": "stream",
     "text": [
      "/Users/zexi_ye/anaconda3/lib/python3.7/site-packages/sklearn/model_selection/_search.py:814: DeprecationWarning: The default of the `iid` parameter will change from True to False in version 0.22 and will be removed in 0.24. This will change numeric results when test-set sizes are unequal.\n",
      "  DeprecationWarning)\n"
     ]
    },
    {
     "data": {
      "text/plain": [
       "GridSearchCV(cv=5, error_score='raise-deprecating',\n",
       "             estimator=GradientBoostingClassifier(criterion='friedman_mse',\n",
       "                                                  init=None, learning_rate=0.1,\n",
       "                                                  loss='deviance', max_depth=3,\n",
       "                                                  max_features=None,\n",
       "                                                  max_leaf_nodes=None,\n",
       "                                                  min_impurity_decrease=0.0,\n",
       "                                                  min_impurity_split=None,\n",
       "                                                  min_samples_leaf=1,\n",
       "                                                  min_samples_split=2,\n",
       "                                                  min_weight_fraction_leaf=0.0,\n",
       "                                                  n_estimators=100,\n",
       "                                                  n_iter_no_change=None,\n",
       "                                                  presort='auto',\n",
       "                                                  random_state=None,\n",
       "                                                  subsample=1.0, tol=0.0001,\n",
       "                                                  validation_fraction=0.1,\n",
       "                                                  verbose=0, warm_start=False),\n",
       "             iid='warn', n_jobs=None,\n",
       "             param_grid={'learning_rate': [0.01, 0.05, 0.1, 0.2, 0.3, 0.5],\n",
       "                         'n_estimators': [100, 200, 300, 400]},\n",
       "             pre_dispatch='2*n_jobs', refit=True, return_train_score=False,\n",
       "             scoring=None, verbose=0)"
      ]
     },
     "execution_count": 132,
     "metadata": {},
     "output_type": "execute_result"
    }
   ],
   "source": [
    "# Instantiate Gradient Boosting classifier\n",
    "blendingGB = GradientBoostingClassifier()\n",
    "\n",
    "# Cross-validation\n",
    "param_grid = {'learning_rate': [0.01, 0.05, 0.1, 0.2, 0.3, 0.5], 'n_estimators': [100, 200, 300, 400]}\n",
    "cv = GridSearchCV(blendingGB, param_grid=param_grid, cv=5)\n",
    "cv.fit(X_train_1, y_train_1)"
   ]
  },
  {
   "cell_type": "code",
   "execution_count": 133,
   "metadata": {},
   "outputs": [],
   "source": [
    "blendingGB = cv.best_estimator_"
   ]
  },
  {
   "cell_type": "markdown",
   "metadata": {},
   "source": [
    "### Step 3: Train second-level classifier"
   ]
  },
  {
   "cell_type": "code",
   "execution_count": 135,
   "metadata": {},
   "outputs": [],
   "source": [
    "# Get predicted probabilities on Set 2 from base classifiers\n",
    "set2Predictions = np.zeros((X_train_2.shape[0], 4))\n",
    "\n",
    "baseClassifiers = [blendingLR, blendingKNN, blendingRF, blendingGB]\n",
    "needStd = [False, True, False, False] # Since KNN takes standardized features\n",
    "\n",
    "for i, (clf, std) in enumerate(zip(baseClassifiers, needStd)):\n",
    "    if std:\n",
    "        pred = clf.predict_proba(X_train_2_std)[:, 1]\n",
    "    else:\n",
    "        pred = clf.predict_proba(X_train_2)[:, 1]\n",
    "    set2Predictions[:, i] = pred"
   ]
  },
  {
   "cell_type": "code",
   "execution_count": 137,
   "metadata": {},
   "outputs": [],
   "source": [
    "# Instantiate a logistic regression\n",
    "\n",
    "Cs = [10**t for t in range(-3, 8)]\n",
    "l1_ratios = np.array([0.0, 0.25, 0.5, 0.75, 1.0])\n",
    "level2Classifier = LogisticRegressionCV(Cs=Cs,\n",
    "                                   penalty='elasticnet',\n",
    "                                   cv=5,\n",
    "                                   max_iter=1000,\n",
    "                                   random_state=1995,\n",
    "                                   solver='saga',\n",
    "                                   l1_ratios=l1_ratios).fit(set2Predictions, y_train_2)"
   ]
  },
  {
   "cell_type": "code",
   "execution_count": 140,
   "metadata": {},
   "outputs": [],
   "source": [
    "# Define a class that gives prediction based upon blending\n",
    "import copy\n",
    "\n",
    "\n",
    "class BlendingClassifier(object):\n",
    "    \n",
    "    def __init__(self, base_classifiers, level_2_classifier, need_std, scaler=None):\n",
    "        self.baseClassifiers = copy.deepcopy(base_classifiers)\n",
    "        self.level2Classifier = copy.deepcopy(level_2_classifier)\n",
    "        self.needStd = copy.deepcopy(needStd)\n",
    "        self.scaler = copy.deepcopy(scaler)\n",
    "        assert len(base_classifiers) == len(need_std), 'Lengths of base_classifiers and need_std do not match'\n",
    "        if scaler is None and True in needStd:\n",
    "            raise Exception('Must pass in a scaler')\n",
    "        \n",
    "    def predict(self, X):\n",
    "        basePred = self._predict(X)\n",
    "        res = self.level2Classifier.predict(basePred)\n",
    "        return res\n",
    "    \n",
    "    def predict_proba(self, X, scaler=None):\n",
    "        basePred = self._predict(X)\n",
    "        res = self.level2Classifier.predict_proba(basePred)\n",
    "        return res        \n",
    "        \n",
    "    def _predict(self, X):\n",
    "        basePred = np.zeros((X.shape[0], len(self.baseClassifiers)))\n",
    "        for i, (clf, std) in enumerate(zip(self.baseClassifiers, self.needStd)):\n",
    "            if std:\n",
    "                X_std = self.scaler.transform(X)\n",
    "                pred = clf.predict_proba(X_std)[:, 1]\n",
    "            else:\n",
    "                pred = clf.predict_proba(X)[:, 1]\n",
    "            basePred[:, i] = pred\n",
    "            \n",
    "        return basePred"
   ]
  },
  {
   "cell_type": "code",
   "execution_count": 141,
   "metadata": {},
   "outputs": [],
   "source": [
    "baseClassifiers = [blendingLR, blendingKNN, blendingRF, blendingGB]\n",
    "needStd = [False, True, False, False] # Since KNN takes standardized features\n",
    "\n",
    "blendingClf = BlendingClassifier(baseClassifiers, level2Classifier, needStd, scalerBlending)"
   ]
  },
  {
   "cell_type": "markdown",
   "metadata": {},
   "source": [
    "**Save the blending model**"
   ]
  },
  {
   "cell_type": "code",
   "execution_count": null,
   "metadata": {},
   "outputs": [],
   "source": [
    "import pickle\n",
    "\n",
    "outPath = 'models/blending.pickle'\n",
    "joblib.dump(blendingClf, outPath)"
   ]
  },
  {
   "cell_type": "markdown",
   "metadata": {},
   "source": [
    "<a id=4></a>\n",
    "\n",
    "# Validation\n",
    "\n",
    "Having trained a wide range of classifiers above, we will evaluate our models using the validation dataset."
   ]
  },
  {
   "cell_type": "code",
   "execution_count": 145,
   "metadata": {},
   "outputs": [],
   "source": [
    "# Model names and paths\n",
    "modelNames = ['Logistic Regression',\n",
    "              'SVM',\n",
    "              'KNN',\n",
    "              'Naive Bayes',\n",
    "              'Random Forest',\n",
    "              'Gradient Boosting',\n",
    "              'Blending']\n",
    "\n",
    "modelPaths = ['models/lr.pickle',\n",
    "              'models/svm.pickle',\n",
    "              'models/knn.pickle',\n",
    "              'models/nb.pickle',\n",
    "              'models/rf.pickle',\n",
    "              'models/gb.pickle',\n",
    "              'models/blending.pkl']"
   ]
  },
  {
   "cell_type": "markdown",
   "metadata": {},
   "source": [
    "## Accuracy, Precision, Recall and F-1 Score"
   ]
  },
  {
   "cell_type": "code",
   "execution_count": 146,
   "metadata": {},
   "outputs": [],
   "source": [
    "from sklearn.metrics import accuracy_score, precision_recall_fscore_support\n",
    "\n",
    "acc_dict, prec_dict, recall_dict, f1_dict = {}, {}, {}, {}\n",
    "\n",
    "for name, path in zip(modelNames, modelPaths):\n",
    "    model = joblib.load(path)\n",
    "    pred = model.predict(X_val)\n",
    "    \n",
    "    acc = accuracy_score(y_val, pred)\n",
    "    prec, recall, f1, _ = precision_recall_fscore_support(y_val, pred, average='binary')\n",
    "    acc_dict[name] = acc\n",
    "    prec_dict[name] = prec\n",
    "    recall_dict[name] = recall\n",
    "    f1_dict[name] = f1"
   ]
  },
  {
   "cell_type": "markdown",
   "metadata": {},
   "source": [
    "**Display the metrics in a table**"
   ]
  },
  {
   "cell_type": "code",
   "execution_count": 147,
   "metadata": {},
   "outputs": [
    {
     "data": {
      "text/html": [
       "<div>\n",
       "<style scoped>\n",
       "    .dataframe tbody tr th:only-of-type {\n",
       "        vertical-align: middle;\n",
       "    }\n",
       "\n",
       "    .dataframe tbody tr th {\n",
       "        vertical-align: top;\n",
       "    }\n",
       "\n",
       "    .dataframe thead th {\n",
       "        text-align: right;\n",
       "    }\n",
       "</style>\n",
       "<table border=\"1\" class=\"dataframe\">\n",
       "  <thead>\n",
       "    <tr style=\"text-align: right;\">\n",
       "      <th></th>\n",
       "      <th>Accuracy</th>\n",
       "      <th>Precision</th>\n",
       "      <th>Recall</th>\n",
       "      <th>F1Score</th>\n",
       "    </tr>\n",
       "  </thead>\n",
       "  <tbody>\n",
       "    <tr>\n",
       "      <td>Logistic Regression</td>\n",
       "      <td>0.855556</td>\n",
       "      <td>0.920000</td>\n",
       "      <td>0.676471</td>\n",
       "      <td>0.779661</td>\n",
       "    </tr>\n",
       "    <tr>\n",
       "      <td>SVM</td>\n",
       "      <td>0.855556</td>\n",
       "      <td>0.888889</td>\n",
       "      <td>0.705882</td>\n",
       "      <td>0.786885</td>\n",
       "    </tr>\n",
       "    <tr>\n",
       "      <td>KNN</td>\n",
       "      <td>0.866667</td>\n",
       "      <td>0.843750</td>\n",
       "      <td>0.794118</td>\n",
       "      <td>0.818182</td>\n",
       "    </tr>\n",
       "    <tr>\n",
       "      <td>Naive Bayes</td>\n",
       "      <td>0.733333</td>\n",
       "      <td>0.625000</td>\n",
       "      <td>0.735294</td>\n",
       "      <td>0.675676</td>\n",
       "    </tr>\n",
       "    <tr>\n",
       "      <td>Random Forest</td>\n",
       "      <td>0.822222</td>\n",
       "      <td>0.764706</td>\n",
       "      <td>0.764706</td>\n",
       "      <td>0.764706</td>\n",
       "    </tr>\n",
       "    <tr>\n",
       "      <td>Gradient Boosting</td>\n",
       "      <td>0.855556</td>\n",
       "      <td>0.888889</td>\n",
       "      <td>0.705882</td>\n",
       "      <td>0.786885</td>\n",
       "    </tr>\n",
       "    <tr>\n",
       "      <td>Blending</td>\n",
       "      <td>0.833333</td>\n",
       "      <td>0.771429</td>\n",
       "      <td>0.794118</td>\n",
       "      <td>0.782609</td>\n",
       "    </tr>\n",
       "  </tbody>\n",
       "</table>\n",
       "</div>"
      ],
      "text/plain": [
       "                     Accuracy  Precision    Recall   F1Score\n",
       "Logistic Regression  0.855556   0.920000  0.676471  0.779661\n",
       "SVM                  0.855556   0.888889  0.705882  0.786885\n",
       "KNN                  0.866667   0.843750  0.794118  0.818182\n",
       "Naive Bayes          0.733333   0.625000  0.735294  0.675676\n",
       "Random Forest        0.822222   0.764706  0.764706  0.764706\n",
       "Gradient Boosting    0.855556   0.888889  0.705882  0.786885\n",
       "Blending             0.833333   0.771429  0.794118  0.782609"
      ]
     },
     "execution_count": 147,
     "metadata": {},
     "output_type": "execute_result"
    }
   ],
   "source": [
    "metricDF = pd.DataFrame([acc_dict, prec_dict, recall_dict, f1_dict]).T\n",
    "metricDF.columns = ['Accuracy', 'Precision', 'Recall', 'F1Score']\n",
    "metricDF"
   ]
  },
  {
   "cell_type": "markdown",
   "metadata": {},
   "source": [
    "## ROC Curve"
   ]
  },
  {
   "cell_type": "code",
   "execution_count": 148,
   "metadata": {},
   "outputs": [],
   "source": [
    "from sklearn.metrics import roc_curve, auc"
   ]
  },
  {
   "cell_type": "code",
   "execution_count": 149,
   "metadata": {},
   "outputs": [],
   "source": [
    "# Get false positive rate, true positive rate and auc \n",
    "\n",
    "fpr_dict = {}\n",
    "tpr_dict = {}\n",
    "auc_dict = {}\n",
    "\n",
    "for name, path in zip(modelNames, modelPaths):\n",
    "    model = joblib.load(path)\n",
    "    predProba = model.predict_proba(X_val)[:, 1]\n",
    "    fpr, tpr, _ = roc_curve(y_val, predProba)\n",
    "    area = auc(fpr, tpr)\n",
    "    fpr_dict[name] = fpr\n",
    "    tpr_dict[name] = tpr\n",
    "    auc_dict[name] = area\n",
    "    "
   ]
  },
  {
   "cell_type": "code",
   "execution_count": 150,
   "metadata": {},
   "outputs": [],
   "source": [
    "# Order the results in descending order\n",
    "nameInOrder = pd.Series(auc_dict).sort_values(ascending=False).index.tolist()"
   ]
  },
  {
   "cell_type": "code",
   "execution_count": 151,
   "metadata": {
    "scrolled": false
   },
   "outputs": [
    {
     "data": {
      "image/png": "[encoded data removed]",
      "text/plain": [
       "<Figure size 576x576 with 1 Axes>"
      ]
     },
     "metadata": {},
     "output_type": "display_data"
    }
   ],
   "source": [
    "fig, ax = plt.subplots(figsize=(8, 8))\n",
    "\n",
    "for name in nameInOrder:\n",
    "    ax.plot(fpr_dict[name], tpr_dict[name], label=f'{name}: {auc_dict[name]:0.3f}')\n",
    "\n",
    "ax.plot((0, 1), (0, 1), '--')\n",
    "ax.legend()\n",
    "ax.set_title('ROC Curve on Validation Set')\n",
    "plt.show()"
   ]
  },
  {
   "cell_type": "markdown",
   "metadata": {},
   "source": [
    "<a id=5></a>\n",
    "\n",
    "# Predictions on Test Set"
   ]
  },
  {
   "cell_type": "markdown",
   "metadata": {},
   "source": [
    "## Preprocess the test data"
   ]
  },
  {
   "cell_type": "code",
   "execution_count": 7,
   "metadata": {},
   "outputs": [],
   "source": [
    "# Load data\n",
    "testData = pd.read_csv('data/test.csv')"
   ]
  },
  {
   "cell_type": "code",
   "execution_count": 8,
   "metadata": {},
   "outputs": [
    {
     "data": {
      "text/plain": [
       "PassengerId    False\n",
       "Pclass         False\n",
       "Name           False\n",
       "Sex            False\n",
       "Age             True\n",
       "SibSp          False\n",
       "Parch          False\n",
       "Ticket         False\n",
       "Fare            True\n",
       "Cabin           True\n",
       "Embarked       False\n",
       "dtype: bool"
      ]
     },
     "execution_count": 8,
     "metadata": {},
     "output_type": "execute_result"
    }
   ],
   "source": [
    "testData.isnull().any()"
   ]
  },
  {
   "cell_type": "code",
   "execution_count": 10,
   "metadata": {},
   "outputs": [],
   "source": [
    "# Fill the NA's\n",
    "\n",
    "# We will fill NA's in Fare using median\n",
    "testData = testData.fillna({'Fare': testData.Fare.median()})\n",
    "\n",
    "# Add engineered features to testData\n",
    "testDataAugmented = augmentDataFrame(testData, titleCorrectionDict, titleToNum, ageRange, fareRange, farePerPersonRange)\n",
    "\n",
    "# Define encodeCols\n",
    "encodeCols = ['Embarked', 'Title']\n",
    "# Drop extraneous columns and perform one-hot encoding\n",
    "keepColsTest = ['Pclass',\n",
    "            'Sex',\n",
    "            'Embarked',\n",
    "            'NumFamMember',\n",
    "            'IsAlone',\n",
    "            'Title',\n",
    "            'AgeExists',\n",
    "            'AgeGroup',\n",
    "            'CabinExists',\n",
    "            'Pclass_Sex',\n",
    "            'FareGroup',\n",
    "            'FarePerPersonGroup']\n",
    "X_test = cleanAndOneHotEncoding(testDataAugmented, keepColsTest, encodeCols)"
   ]
  },
  {
   "cell_type": "markdown",
   "metadata": {},
   "source": [
    "## Apply models on preprocessed test data"
   ]
  },
  {
   "cell_type": "markdown",
   "metadata": {},
   "source": [
    "In this section, we will generate predictions on the test set using all of our trained classifiers."
   ]
  },
  {
   "cell_type": "markdown",
   "metadata": {},
   "source": [
    "### 1. Logistic regression"
   ]
  },
  {
   "cell_type": "code",
   "execution_count": 168,
   "metadata": {},
   "outputs": [],
   "source": [
    "# Load model\n",
    "modelPath = 'models/lr.pickle'\n",
    "clfLR = joblib.load(modelPath)\n",
    "\n",
    "# Predict\n",
    "testPredLR = clfLR.predict(X_test)"
   ]
  },
  {
   "cell_type": "markdown",
   "metadata": {},
   "source": [
    "### 2. SVM"
   ]
  },
  {
   "cell_type": "code",
   "execution_count": 16,
   "metadata": {},
   "outputs": [],
   "source": [
    "# Load model\n",
    "modelPath = 'models/svm.pickle'\n",
    "clfSVM = joblib.load(modelPath)\n",
    "\n",
    "# Predict\n",
    "testPredSVM = clfSVM.predict(X_test)"
   ]
  },
  {
   "cell_type": "markdown",
   "metadata": {},
   "source": [
    "### 3. K-NN"
   ]
  },
  {
   "cell_type": "code",
   "execution_count": 171,
   "metadata": {},
   "outputs": [],
   "source": [
    "# Load model\n",
    "modelPath = 'models/knn.pickle'\n",
    "clfKNN = joblib.load(modelPath)\n",
    "\n",
    "# Predict\n",
    "testPredKNN = clfKNN.predict(X_test)"
   ]
  },
  {
   "cell_type": "markdown",
   "metadata": {},
   "source": [
    "### 4. Naive Bayes"
   ]
  },
  {
   "cell_type": "code",
   "execution_count": 19,
   "metadata": {},
   "outputs": [],
   "source": [
    "# Load model\n",
    "modelPath = 'models/nb.pickle'\n",
    "clfNB = joblib.load(modelPath)\n",
    "\n",
    "# Predict\n",
    "testPredNB = clfNB.predict(X_test)"
   ]
  },
  {
   "cell_type": "markdown",
   "metadata": {},
   "source": [
    "### 5. Random forest"
   ]
  },
  {
   "cell_type": "code",
   "execution_count": 175,
   "metadata": {},
   "outputs": [],
   "source": [
    "# Load model\n",
    "modelPath = 'models/rf.pickle'\n",
    "clfRF = joblib.load(modelPath)\n",
    "\n",
    "# Predict\n",
    "testPredRF = clfRF.predict(X_test)"
   ]
  },
  {
   "cell_type": "markdown",
   "metadata": {},
   "source": [
    "### 6. Gradient boosting"
   ]
  },
  {
   "cell_type": "code",
   "execution_count": 13,
   "metadata": {},
   "outputs": [],
   "source": [
    "# Load model\n",
    "modelPath = 'models/gb.pickle'\n",
    "clfGB = joblib.load(modelPath)\n",
    "\n",
    "# Predict\n",
    "testPredGB = clfGB.predict(X_test)"
   ]
  },
  {
   "cell_type": "markdown",
   "metadata": {},
   "source": [
    "### 7. Blending"
   ]
  },
  {
   "cell_type": "code",
   "execution_count": 176,
   "metadata": {},
   "outputs": [],
   "source": [
    "# Load model\n",
    "modelPath = 'models/blending.pickle'\n",
    "clfBlending = joblib.load(modelPath)\n",
    "\n",
    "# Predict\n",
    "testPredBlending = clfBlending.predict(X_test)"
   ]
  },
  {
   "cell_type": "code",
   "execution_count": 178,
   "metadata": {},
   "outputs": [
    {
     "data": {
      "text/html": [
       "<div>\n",
       "<style scoped>\n",
       "    .dataframe tbody tr th:only-of-type {\n",
       "        vertical-align: middle;\n",
       "    }\n",
       "\n",
       "    .dataframe tbody tr th {\n",
       "        vertical-align: top;\n",
       "    }\n",
       "\n",
       "    .dataframe thead th {\n",
       "        text-align: right;\n",
       "    }\n",
       "</style>\n",
       "<table border=\"1\" class=\"dataframe\">\n",
       "  <thead>\n",
       "    <tr style=\"text-align: right;\">\n",
       "      <th></th>\n",
       "      <th>LR</th>\n",
       "      <th>KNN</th>\n",
       "      <th>RF</th>\n",
       "      <th>Blending</th>\n",
       "    </tr>\n",
       "  </thead>\n",
       "  <tbody>\n",
       "    <tr>\n",
       "      <td>0</td>\n",
       "      <td>0</td>\n",
       "      <td>0</td>\n",
       "      <td>0</td>\n",
       "      <td>0</td>\n",
       "    </tr>\n",
       "    <tr>\n",
       "      <td>1</td>\n",
       "      <td>0</td>\n",
       "      <td>0</td>\n",
       "      <td>0</td>\n",
       "      <td>0</td>\n",
       "    </tr>\n",
       "    <tr>\n",
       "      <td>2</td>\n",
       "      <td>0</td>\n",
       "      <td>0</td>\n",
       "      <td>0</td>\n",
       "      <td>1</td>\n",
       "    </tr>\n",
       "    <tr>\n",
       "      <td>3</td>\n",
       "      <td>0</td>\n",
       "      <td>0</td>\n",
       "      <td>0</td>\n",
       "      <td>0</td>\n",
       "    </tr>\n",
       "    <tr>\n",
       "      <td>4</td>\n",
       "      <td>1</td>\n",
       "      <td>1</td>\n",
       "      <td>1</td>\n",
       "      <td>1</td>\n",
       "    </tr>\n",
       "    <tr>\n",
       "      <td>...</td>\n",
       "      <td>...</td>\n",
       "      <td>...</td>\n",
       "      <td>...</td>\n",
       "      <td>...</td>\n",
       "    </tr>\n",
       "    <tr>\n",
       "      <td>413</td>\n",
       "      <td>0</td>\n",
       "      <td>0</td>\n",
       "      <td>0</td>\n",
       "      <td>0</td>\n",
       "    </tr>\n",
       "    <tr>\n",
       "      <td>414</td>\n",
       "      <td>1</td>\n",
       "      <td>1</td>\n",
       "      <td>1</td>\n",
       "      <td>1</td>\n",
       "    </tr>\n",
       "    <tr>\n",
       "      <td>415</td>\n",
       "      <td>0</td>\n",
       "      <td>0</td>\n",
       "      <td>0</td>\n",
       "      <td>0</td>\n",
       "    </tr>\n",
       "    <tr>\n",
       "      <td>416</td>\n",
       "      <td>0</td>\n",
       "      <td>0</td>\n",
       "      <td>0</td>\n",
       "      <td>0</td>\n",
       "    </tr>\n",
       "    <tr>\n",
       "      <td>417</td>\n",
       "      <td>1</td>\n",
       "      <td>1</td>\n",
       "      <td>1</td>\n",
       "      <td>1</td>\n",
       "    </tr>\n",
       "  </tbody>\n",
       "</table>\n",
       "<p>418 rows × 4 columns</p>\n",
       "</div>"
      ],
      "text/plain": [
       "     LR  KNN  RF  Blending\n",
       "0     0    0   0         0\n",
       "1     0    0   0         0\n",
       "2     0    0   0         1\n",
       "3     0    0   0         0\n",
       "4     1    1   1         1\n",
       "..   ..  ...  ..       ...\n",
       "413   0    0   0         0\n",
       "414   1    1   1         1\n",
       "415   0    0   0         0\n",
       "416   0    0   0         0\n",
       "417   1    1   1         1\n",
       "\n",
       "[418 rows x 4 columns]"
      ]
     },
     "execution_count": 178,
     "metadata": {},
     "output_type": "execute_result"
    }
   ],
   "source": [
    "pd.DataFrame({'LR': testPredLR, 'KNN': testPredKNN, 'RF': testPredRF, 'Blending': testPredBlending})"
   ]
  },
  {
   "cell_type": "markdown",
   "metadata": {},
   "source": [
    "### Reformat and save predictions\n",
    "\n",
    "Convert the predictions into desired form and save, respectively."
   ]
  },
  {
   "cell_type": "code",
   "execution_count": 179,
   "metadata": {},
   "outputs": [],
   "source": [
    "preds = [testPredLR, testPredSVM, testPredKNN, testPredNB, testPredRF, testPredGB, testPredBlending]\n",
    "suffices = ['lr', 'svm', 'knn', 'nb', 'rf', 'gb', 'blending']\n",
    "\n",
    "for pred, suffix in zip(preds, suffices):\n",
    "    # Create a dataframe\n",
    "    testOutput = pd.DataFrame({'PassengerId': testData.PassengerId, 'Survived': pred})\n",
    "\n",
    "    # Save\n",
    "    testOutput.to_csv('output/submission_{}.csv'.format(suffix), index=False)"
   ]
  }
 ],
 "metadata": {
  "kernelspec": {
   "display_name": "Python 3",
   "language": "python",
   "name": "python3"
  },
  "language_info": {
   "codemirror_mode": {
    "name": "ipython",
    "version": 3
   },
   "file_extension": ".py",
   "mimetype": "text/x-python",
   "name": "python",
   "nbconvert_exporter": "python",
   "pygments_lexer": "ipython3",
   "version": "3.7.4"
  }
 },
 "nbformat": 4,
 "nbformat_minor": 2
}
